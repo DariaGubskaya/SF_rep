{
 "cells": [
  {
   "cell_type": "markdown",
   "id": "42289889-bd57-434e-9637-d3e354756316",
   "metadata": {
    "id": "42289889-bd57-434e-9637-d3e354756316"
   },
   "source": [
    "<center> <img src = https://raw.githubusercontent.com/AndreyRysistov/DatasetsForPandas/main/hh%20label.jpg alt=\"drawing\" style=\"width:400px;\">"
   ]
  },
  {
   "cell_type": "markdown",
   "id": "829cb75b-f14e-4ba8-9195-7ba929a7d656",
   "metadata": {
    "id": "829cb75b-f14e-4ba8-9195-7ba929a7d656",
    "tags": []
   },
   "source": [
    "# <center> Проект: Анализ вакансий из HeadHunter\n",
    "   "
   ]
  },
  {
   "cell_type": "code",
   "execution_count": 1,
   "id": "dccfde33-2452-43fb-a8a5-5c6ebc02a71d",
   "metadata": {
    "id": "dccfde33-2452-43fb-a8a5-5c6ebc02a71d"
   },
   "outputs": [],
   "source": [
    "import pandas as pd\n",
    "import psycopg2\n",
    "import requests\n",
    "import warnings\n",
    "warnings.filterwarnings('ignore')"
   ]
  },
  {
   "cell_type": "code",
   "execution_count": 2,
   "id": "oVKH4ehvf8Ay",
   "metadata": {
    "id": "oVKH4ehvf8Ay"
   },
   "outputs": [],
   "source": [
    "DBNAME = 'project_sql'\n",
    "USER = 'skillfactory'\n",
    "PASSWORD = 'cCkxxLVrDE8EbvjueeMedPKt'\n",
    "HOST = '84.201.134.129'\n",
    "PORT = 5432"
   ]
  },
  {
   "cell_type": "code",
   "execution_count": 3,
   "id": "G4X_q8KBf7SF",
   "metadata": {
    "id": "G4X_q8KBf7SF"
   },
   "outputs": [],
   "source": [
    "connection = psycopg2.connect(\n",
    "    dbname=DBNAME,\n",
    "    user=USER,\n",
    "    host=HOST,\n",
    "    password=PASSWORD,\n",
    "    port=PORT\n",
    ")"
   ]
  },
  {
   "cell_type": "markdown",
   "id": "0dc6476b-7a00-44f1-ac93-6e3baed33a29",
   "metadata": {
    "id": "0dc6476b-7a00-44f1-ac93-6e3baed33a29"
   },
   "source": [
    "# Юнит 3. Предварительный анализ данных"
   ]
  },
  {
   "cell_type": "markdown",
   "id": "889782b6-8d1c-410e-8920-e57f27917c64",
   "metadata": {
    "id": "889782b6-8d1c-410e-8920-e57f27917c64"
   },
   "source": [
    "1. Напишите запрос, который посчитает количество вакансий в нашей базе (вакансии находятся в таблице vacancies). "
   ]
  },
  {
   "cell_type": "code",
   "execution_count": 4,
   "id": "bc39e68e-ed02-4ee2-9235-7258a2f867a8",
   "metadata": {
    "id": "bc39e68e-ed02-4ee2-9235-7258a2f867a8"
   },
   "outputs": [],
   "source": [
    "# текст запроса\n",
    "query_3_1 = f'''select COUNT(id) \n",
    "                from vacancies'''\n",
    "count_vacancies = pd.read_sql_query(query_3_1, connection)"
   ]
  },
  {
   "cell_type": "code",
   "execution_count": 5,
   "id": "7mAwtsk4hEHY",
   "metadata": {
    "id": "7mAwtsk4hEHY"
   },
   "outputs": [
    {
     "name": "stdout",
     "output_type": "stream",
     "text": [
      "Количество вакансий в базе: 49197\n"
     ]
    }
   ],
   "source": [
    "print('Количество вакансий в базе:', count_vacancies['count'].iloc[0])"
   ]
  },
  {
   "cell_type": "markdown",
   "id": "b583485d-1f9e-494e-ada4-80ffff7c53d6",
   "metadata": {
    "id": "b583485d-1f9e-494e-ada4-80ffff7c53d6"
   },
   "source": [
    "2. Напишите запрос, который посчитает количество работодателей (таблица employers). "
   ]
  },
  {
   "cell_type": "code",
   "execution_count": 6,
   "id": "5408c52c-3407-4a63-b25b-1aafa2322d28",
   "metadata": {
    "id": "5408c52c-3407-4a63-b25b-1aafa2322d28"
   },
   "outputs": [],
   "source": [
    "query_3_2 = f'''select COUNT(id) \n",
    "                from employers'''\n",
    "employers = pd.read_sql_query(query_3_2, connection)"
   ]
  },
  {
   "cell_type": "code",
   "execution_count": 7,
   "id": "jVL4eshKhdqc",
   "metadata": {
    "id": "jVL4eshKhdqc"
   },
   "outputs": [
    {
     "name": "stdout",
     "output_type": "stream",
     "text": [
      "Количество работодателей в базе: 23501\n"
     ]
    }
   ],
   "source": [
    "print('Количество работодателей в базе:', employers['count'].iloc[0])"
   ]
  },
  {
   "cell_type": "markdown",
   "id": "a2bfff1f-c975-4bf6-84be-2185d79dcb76",
   "metadata": {
    "id": "a2bfff1f-c975-4bf6-84be-2185d79dcb76"
   },
   "source": [
    "3. Посчитате с помощью запроса количество регионов (таблица areas)."
   ]
  },
  {
   "cell_type": "code",
   "execution_count": 8,
   "id": "1m8QJwBYhey6",
   "metadata": {
    "id": "1m8QJwBYhey6"
   },
   "outputs": [],
   "source": [
    "query_3_3 = f'''select COUNT(id) \n",
    "                from areas'''\n",
    "areas = pd.read_sql_query(query_3_3, connection)"
   ]
  },
  {
   "cell_type": "code",
   "execution_count": 9,
   "id": "EZsn9tlfhe7f",
   "metadata": {
    "id": "EZsn9tlfhe7f"
   },
   "outputs": [
    {
     "name": "stdout",
     "output_type": "stream",
     "text": [
      "Количество регионов в базе: 1362\n"
     ]
    }
   ],
   "source": [
    "print('Количество регионов в базе:', areas['count'].iloc[0])"
   ]
  },
  {
   "cell_type": "markdown",
   "id": "41bb59f3-53cc-4a67-a5bc-bedf573955e4",
   "metadata": {
    "id": "41bb59f3-53cc-4a67-a5bc-bedf573955e4"
   },
   "source": [
    "4. Посчитате с помощью запроса количество сфер деятельности в базе (таблица industries)."
   ]
  },
  {
   "cell_type": "code",
   "execution_count": 10,
   "id": "d286cf4c-707b-4cd2-9190-7ab3587d04a1",
   "metadata": {
    "id": "d286cf4c-707b-4cd2-9190-7ab3587d04a1"
   },
   "outputs": [],
   "source": [
    "query_3_4 = f'''select COUNT(id) \n",
    "                from industries'''\n",
    "industries = pd.read_sql_query(query_3_4, connection)"
   ]
  },
  {
   "cell_type": "code",
   "execution_count": 11,
   "id": "JYAaoZ4qhfzW",
   "metadata": {
    "id": "JYAaoZ4qhfzW"
   },
   "outputs": [
    {
     "name": "stdout",
     "output_type": "stream",
     "text": [
      "Количество индустрий в базе: 294\n"
     ]
    }
   ],
   "source": [
    "print('Количество индустрий в базе:', industries['count'].iloc[0])"
   ]
  },
  {
   "cell_type": "markdown",
   "id": "9a8a2181-6914-448b-85f1-38f5f18b8a93",
   "metadata": {
    "id": "9a8a2181-6914-448b-85f1-38f5f18b8a93"
   },
   "source": [
    "***"
   ]
  },
  {
   "cell_type": "markdown",
   "id": "80603150",
   "metadata": {
    "id": "be4e9bd3-a4db-4a20-82fb-6b02fc2957e0"
   },
   "source": [
    "# Выводы\n",
    "1. В нашем распоряжении достаточно обширная база, состоящая из 49197 вакансий\n",
    "2. В базе представлены вакансии от 23501 работодателя\n",
    "3. Имеет широкую географическую (1362 региона) и индустриальную(294 индустрии) представленность \n",
    "4. Можно говорить о репрезентативной выборке и экстраполировать выводы на рынок в целом"
   ]
  },
  {
   "cell_type": "markdown",
   "id": "8d62a9f3-f64e-4fe7-bdac-c4dffa16155e",
   "metadata": {
    "id": "8d62a9f3-f64e-4fe7-bdac-c4dffa16155e"
   },
   "source": [
    "# Юнит 4. Детальный анализ вакансий"
   ]
  },
  {
   "cell_type": "markdown",
   "id": "93053d3d-b284-481a-9cf7-012d7014c0e0",
   "metadata": {
    "id": "93053d3d-b284-481a-9cf7-012d7014c0e0"
   },
   "source": [
    "1. Напишите запрос, который позволит узнать, сколько (cnt) вакансий в каждом регионе (area).\n",
    "Отсортируйте по количеству вакансий в порядке убывания."
   ]
  },
  {
   "cell_type": "code",
   "execution_count": 12,
   "id": "3f069da6-fdc9-4ae7-b514-fafe2675efd3",
   "metadata": {
    "id": "3f069da6-fdc9-4ae7-b514-fafe2675efd3"
   },
   "outputs": [],
   "source": [
    "query_4_1 = f'''SELECT a.name area,\n",
    "                       COUNT(v.id) AS cnt_vacancies\n",
    "                FROM vacancies AS v INNER JOIN areas AS a ON v.area_id = a.id\n",
    "                GROUP BY 1\n",
    "                ORDER BY 2 DESC'''\n",
    "vac_by_areas = pd.read_sql_query(query_4_1, connection)"
   ]
  },
  {
   "cell_type": "code",
   "execution_count": 13,
   "id": "P7QL86hrjhRJ",
   "metadata": {
    "id": "P7QL86hrjhRJ"
   },
   "outputs": [
    {
     "name": "stdout",
     "output_type": "stream",
     "text": [
      "Пятерка лидеров по количеству вакансий:\n",
      "\n",
      "              area  cnt_vacancies\n",
      "0           Москва           5333\n",
      "1  Санкт-Петербург           2851\n",
      "2            Минск           2112\n",
      "3      Новосибирск           2006\n",
      "4           Алматы           1892\n"
     ]
    }
   ],
   "source": [
    "print('Пятерка лидеров по количеству вакансий:', '', vac_by_areas.head(5), sep='\\n')"
   ]
  },
  {
   "cell_type": "markdown",
   "id": "4266f0b6-1646-492a-88b4-2f6a46502135",
   "metadata": {
    "id": "4266f0b6-1646-492a-88b4-2f6a46502135"
   },
   "source": [
    "2. Напишите запрос, чтобы определить у какого количества вакансий заполнено хотя бы одно из двух полей с зарплатой."
   ]
  },
  {
   "cell_type": "code",
   "execution_count": 14,
   "id": "0c44b350-72eb-4d65-8b54-a1fc449ba9fd",
   "metadata": {
    "id": "0c44b350-72eb-4d65-8b54-a1fc449ba9fd"
   },
   "outputs": [],
   "source": [
    "query_4_2 = f'''SELECT \n",
    "                       COUNT(id) AS cnt\n",
    "                FROM vacancies\n",
    "                WHERE salary_from IS NOT NULL OR salary_to IS NOT NULL\n",
    "                '''\n",
    "\n",
    "has_salary = pd.read_sql_query(query_4_2, connection)"
   ]
  },
  {
   "cell_type": "code",
   "execution_count": 15,
   "id": "rhvwaMDkoWTi",
   "metadata": {
    "id": "rhvwaMDkoWTi"
   },
   "outputs": [
    {
     "name": "stdout",
     "output_type": "stream",
     "text": [
      "Заполнено хотя бы одно из двух полей с зарплатой у 24073 вакансий. Что составляет 49.0% от общего числа вакансий.\n"
     ]
    }
   ],
   "source": [
    "print('Заполнено хотя бы одно из двух полей с зарплатой у {} вакансий. Что составляет {}% от общего числа вакансий.'.format(has_salary['cnt'].iloc[0],round(has_salary['cnt'].iloc[0]/count_vacancies['count'].iloc[0]*100,0)))"
   ]
  },
  {
   "cell_type": "markdown",
   "id": "635c4d5d-f323-4c66-b428-50a088120aa0",
   "metadata": {
    "id": "635c4d5d-f323-4c66-b428-50a088120aa0"
   },
   "source": [
    "3. Найдите средние значения для нижней и верхней границы зарплатной вилки. Округлите значения до целого."
   ]
  },
  {
   "cell_type": "code",
   "execution_count": 16,
   "id": "603cdbe4-0ec3-4106-8eaf-c73fcdd29165",
   "metadata": {
    "id": "603cdbe4-0ec3-4106-8eaf-c73fcdd29165"
   },
   "outputs": [],
   "source": [
    "query_4_3 = f'''SELECT \n",
    "                       ROUND(AVG(salary_from),0) AS avg_salary_from,\n",
    "                       ROUND(AVG(salary_to),0) AS avg_salary_to\n",
    "                FROM vacancies\n",
    "                WHERE salary_from IS NOT NULL OR salary_to IS NOT NULL\n",
    "                '''\n",
    "\n",
    "avg_salary = pd.read_sql_query(query_4_3, connection)"
   ]
  },
  {
   "cell_type": "code",
   "execution_count": 17,
   "id": "pswpAb66ovZZ",
   "metadata": {
    "id": "pswpAb66ovZZ",
    "scrolled": true
   },
   "outputs": [
    {
     "name": "stdout",
     "output_type": "stream",
     "text": [
      "Cредние значения для нижней границы зарплатной вилки 71065.0, для верхней границы 110537.0.\n"
     ]
    }
   ],
   "source": [
    "print('Cредние значения для нижней границы зарплатной вилки {}, для верхней границы {}.'.format(avg_salary['avg_salary_from'].iloc[0], avg_salary['avg_salary_to'].iloc[0]))"
   ]
  },
  {
   "cell_type": "markdown",
   "id": "f3fdaec9-5fd3-4260-9cf5-1d7406b628a5",
   "metadata": {
    "id": "f3fdaec9-5fd3-4260-9cf5-1d7406b628a5"
   },
   "source": [
    "4. Напишите запрос, который выведет количество вакансий для каждого сочетания типа рабочего графика (schedule) и типа трудоустройства (employment), используемого в вакансиях. Результат отсортируйте по убыванию количества.\n"
   ]
  },
  {
   "cell_type": "code",
   "execution_count": 18,
   "id": "1ea710ec-871b-431e-9462-c7d0fd87011b",
   "metadata": {
    "id": "1ea710ec-871b-431e-9462-c7d0fd87011b"
   },
   "outputs": [],
   "source": [
    "query_4_4 = f'''SELECT schedule,\n",
    "                       employment,\n",
    "                       COUNT(id) AS cnt    \n",
    "                FROM vacancies\n",
    "                GROUP BY 1,2\n",
    "                ORDER BY 3 DESC\n",
    "                '''\n",
    "\n",
    "vac_by_sch = pd.read_sql_query(query_4_4, connection)"
   ]
  },
  {
   "cell_type": "code",
   "execution_count": 19,
   "id": "lGUVqavdo4JQ",
   "metadata": {
    "id": "lGUVqavdo4JQ"
   },
   "outputs": [
    {
     "data": {
      "text/html": [
       "<div>\n",
       "<style scoped>\n",
       "    .dataframe tbody tr th:only-of-type {\n",
       "        vertical-align: middle;\n",
       "    }\n",
       "\n",
       "    .dataframe tbody tr th {\n",
       "        vertical-align: top;\n",
       "    }\n",
       "\n",
       "    .dataframe thead th {\n",
       "        text-align: right;\n",
       "    }\n",
       "</style>\n",
       "<table border=\"1\" class=\"dataframe\">\n",
       "  <thead>\n",
       "    <tr style=\"text-align: right;\">\n",
       "      <th></th>\n",
       "      <th>schedule</th>\n",
       "      <th>employment</th>\n",
       "      <th>cnt</th>\n",
       "    </tr>\n",
       "  </thead>\n",
       "  <tbody>\n",
       "    <tr>\n",
       "      <th>0</th>\n",
       "      <td>Полный день</td>\n",
       "      <td>Полная занятость</td>\n",
       "      <td>35367</td>\n",
       "    </tr>\n",
       "    <tr>\n",
       "      <th>1</th>\n",
       "      <td>Удаленная работа</td>\n",
       "      <td>Полная занятость</td>\n",
       "      <td>7802</td>\n",
       "    </tr>\n",
       "    <tr>\n",
       "      <th>2</th>\n",
       "      <td>Гибкий график</td>\n",
       "      <td>Полная занятость</td>\n",
       "      <td>1593</td>\n",
       "    </tr>\n",
       "    <tr>\n",
       "      <th>3</th>\n",
       "      <td>Удаленная работа</td>\n",
       "      <td>Частичная занятость</td>\n",
       "      <td>1312</td>\n",
       "    </tr>\n",
       "    <tr>\n",
       "      <th>4</th>\n",
       "      <td>Сменный график</td>\n",
       "      <td>Полная занятость</td>\n",
       "      <td>940</td>\n",
       "    </tr>\n",
       "    <tr>\n",
       "      <th>5</th>\n",
       "      <td>Полный день</td>\n",
       "      <td>Стажировка</td>\n",
       "      <td>569</td>\n",
       "    </tr>\n",
       "    <tr>\n",
       "      <th>6</th>\n",
       "      <td>Вахтовый метод</td>\n",
       "      <td>Полная занятость</td>\n",
       "      <td>367</td>\n",
       "    </tr>\n",
       "    <tr>\n",
       "      <th>7</th>\n",
       "      <td>Полный день</td>\n",
       "      <td>Частичная занятость</td>\n",
       "      <td>347</td>\n",
       "    </tr>\n",
       "    <tr>\n",
       "      <th>8</th>\n",
       "      <td>Гибкий график</td>\n",
       "      <td>Частичная занятость</td>\n",
       "      <td>312</td>\n",
       "    </tr>\n",
       "    <tr>\n",
       "      <th>9</th>\n",
       "      <td>Полный день</td>\n",
       "      <td>Проектная работа</td>\n",
       "      <td>141</td>\n",
       "    </tr>\n",
       "    <tr>\n",
       "      <th>10</th>\n",
       "      <td>Удаленная работа</td>\n",
       "      <td>Проектная работа</td>\n",
       "      <td>133</td>\n",
       "    </tr>\n",
       "    <tr>\n",
       "      <th>11</th>\n",
       "      <td>Гибкий график</td>\n",
       "      <td>Стажировка</td>\n",
       "      <td>116</td>\n",
       "    </tr>\n",
       "    <tr>\n",
       "      <th>12</th>\n",
       "      <td>Сменный график</td>\n",
       "      <td>Частичная занятость</td>\n",
       "      <td>101</td>\n",
       "    </tr>\n",
       "    <tr>\n",
       "      <th>13</th>\n",
       "      <td>Удаленная работа</td>\n",
       "      <td>Стажировка</td>\n",
       "      <td>64</td>\n",
       "    </tr>\n",
       "    <tr>\n",
       "      <th>14</th>\n",
       "      <td>Гибкий график</td>\n",
       "      <td>Проектная работа</td>\n",
       "      <td>18</td>\n",
       "    </tr>\n",
       "    <tr>\n",
       "      <th>15</th>\n",
       "      <td>Сменный график</td>\n",
       "      <td>Стажировка</td>\n",
       "      <td>12</td>\n",
       "    </tr>\n",
       "    <tr>\n",
       "      <th>16</th>\n",
       "      <td>Вахтовый метод</td>\n",
       "      <td>Проектная работа</td>\n",
       "      <td>2</td>\n",
       "    </tr>\n",
       "    <tr>\n",
       "      <th>17</th>\n",
       "      <td>Сменный график</td>\n",
       "      <td>Проектная работа</td>\n",
       "      <td>1</td>\n",
       "    </tr>\n",
       "  </tbody>\n",
       "</table>\n",
       "</div>"
      ],
      "text/plain": [
       "            schedule           employment    cnt\n",
       "0        Полный день     Полная занятость  35367\n",
       "1   Удаленная работа     Полная занятость   7802\n",
       "2      Гибкий график     Полная занятость   1593\n",
       "3   Удаленная работа  Частичная занятость   1312\n",
       "4     Сменный график     Полная занятость    940\n",
       "5        Полный день           Стажировка    569\n",
       "6     Вахтовый метод     Полная занятость    367\n",
       "7        Полный день  Частичная занятость    347\n",
       "8      Гибкий график  Частичная занятость    312\n",
       "9        Полный день     Проектная работа    141\n",
       "10  Удаленная работа     Проектная работа    133\n",
       "11     Гибкий график           Стажировка    116\n",
       "12    Сменный график  Частичная занятость    101\n",
       "13  Удаленная работа           Стажировка     64\n",
       "14     Гибкий график     Проектная работа     18\n",
       "15    Сменный график           Стажировка     12\n",
       "16    Вахтовый метод     Проектная работа      2\n",
       "17    Сменный график     Проектная работа      1"
      ]
     },
     "execution_count": 19,
     "metadata": {},
     "output_type": "execute_result"
    }
   ],
   "source": [
    "vac_by_sch"
   ]
  },
  {
   "cell_type": "markdown",
   "id": "0136ffee-0ead-4a6b-b608-61d1c753a438",
   "metadata": {
    "id": "0136ffee-0ead-4a6b-b608-61d1c753a438"
   },
   "source": [
    "5. Напишите запрос, выводящий значения поля Требуемый опыт работы (experience) в порядке возрастания количества вакансий, в которых указан данный вариант опыта. "
   ]
  },
  {
   "cell_type": "code",
   "execution_count": 20,
   "id": "5b3a8e79-f7ab-4008-b767-12aea3a205ea",
   "metadata": {
    "id": "5b3a8e79-f7ab-4008-b767-12aea3a205ea"
   },
   "outputs": [],
   "source": [
    "query_4_5 = f'''SELECT experience   \n",
    "                FROM vacancies\n",
    "                GROUP BY 1\n",
    "                ORDER BY COUNT(id) ASC\n",
    "                '''\n",
    "\n",
    "vac_by_experience = pd.read_sql_query(query_4_5, connection)"
   ]
  },
  {
   "cell_type": "code",
   "execution_count": 21,
   "id": "3Is64Y-hpDpq",
   "metadata": {
    "id": "3Is64Y-hpDpq"
   },
   "outputs": [
    {
     "name": "stdout",
     "output_type": "stream",
     "text": [
      "Требуемый опыт работы в порядке возрастания количества вакансий:\n",
      "\n",
      "           experience\n",
      "0         Более 6 лет\n",
      "1           Нет опыта\n",
      "2       От 3 до 6 лет\n",
      "3  От 1 года до 3 лет\n"
     ]
    }
   ],
   "source": [
    "print('Требуемый опыт работы в порядке возрастания количества вакансий:', '', vac_by_experience, sep='\\n')"
   ]
  },
  {
   "cell_type": "markdown",
   "id": "oq2b7n1QpIka",
   "metadata": {
    "id": "oq2b7n1QpIka"
   },
   "source": [
    "***"
   ]
  },
  {
   "cell_type": "markdown",
   "id": "6e79e6c1",
   "metadata": {
    "id": "e91f87ed-e25c-4f96-9f92-b642e8c0b4fa"
   },
   "source": [
    "# Выводы \n",
    "1. Больше всего вакансий в крупных столичных городах, что обусловлено концентрацией работодателей в столицах и количеством населения в крупных городах\n",
    "2. В Москве вакансий практически в 2 раза больше по сравнению с другими городами, попавшими в топ 5\n",
    "3. Лишь у половины вакансий(24073) заполнено хотя бы одно поле с зарплатой\n",
    "4. Cредние значения зарплат лежит в диапазоне от 71065 до 110537\n",
    "5. В основном работодатель ищет сотрудников на полный день и полную занятость\n",
    "6. Самое редкое сочетание занятости и расписания сменный график - проектная работа\n",
    "7. Самый востребованный опыт работы 1-3 лет, люди с опытом более 6 лет востребованы меньше всего "
   ]
  },
  {
   "cell_type": "markdown",
   "id": "7ea20ab6-04a7-40a0-adec-443a0e5a42c3",
   "metadata": {
    "id": "7ea20ab6-04a7-40a0-adec-443a0e5a42c3"
   },
   "source": [
    "# Юнит 5. Анализ работодателей"
   ]
  },
  {
   "cell_type": "markdown",
   "id": "968aed80-74ef-4ffb-b5bf-c65b84e9caea",
   "metadata": {
    "id": "968aed80-74ef-4ffb-b5bf-c65b84e9caea"
   },
   "source": [
    "1. Напишите запрос, который позволит узнать, какие работодатели находятся на первом и пятом месте по количеству вакансий."
   ]
  },
  {
   "cell_type": "code",
   "execution_count": 22,
   "id": "f2d62796-d400-4ec1-a675-88112739a50e",
   "metadata": {
    "id": "f2d62796-d400-4ec1-a675-88112739a50e"
   },
   "outputs": [],
   "source": [
    "query_5_1 = f'''SELECT e.name                      \n",
    "                FROM vacancies AS v INNER JOIN employers AS e ON v.employer_id = e.id\n",
    "                GROUP BY 1\n",
    "                ORDER BY COUNT(v.id) DESC\n",
    "                LIMIT 5'''\n",
    "vac_by_employers = pd.read_sql_query(query_5_1, connection)"
   ]
  },
  {
   "cell_type": "code",
   "execution_count": 23,
   "id": "64tOMkAxqkQk",
   "metadata": {
    "id": "64tOMkAxqkQk"
   },
   "outputs": [
    {
     "name": "stdout",
     "output_type": "stream",
     "text": [
      "На первом месте по количеству вакансий находится Яндекс. На пятом месте по количеству вакансий находится Газпром нефть.\n"
     ]
    }
   ],
   "source": [
    "print('На первом месте по количеству вакансий находится {}. На пятом месте по количеству вакансий находится {}.'.format(vac_by_employers['name'].iloc[0],vac_by_employers['name'].iloc[4]))"
   ]
  },
  {
   "cell_type": "markdown",
   "id": "68377cfc-b378-43dc-ab7d-1195abf2c515",
   "metadata": {
    "id": "68377cfc-b378-43dc-ab7d-1195abf2c515"
   },
   "source": [
    "2. Напишите запрос, который для каждого региона выведет количество работодателей и вакансий в нём.\n",
    "Среди регионов, в которых нет вакансий, найдите тот, в котором наибольшее количество работодателей.\n"
   ]
  },
  {
   "cell_type": "code",
   "execution_count": 24,
   "id": "dd7df27a-e3e8-412e-a21a-5d389b71e891",
   "metadata": {
    "id": "dd7df27a-e3e8-412e-a21a-5d389b71e891"
   },
   "outputs": [],
   "source": [
    "query_5_2 = f'''SELECT a.name,\n",
    "                COUNT(e.id) AS cnt_employes,\n",
    "                COUNT(V.id) AS cnt_vacancies\n",
    "                FROM areas AS a LEFT JOIN  vacancies AS v ON v.area_id = a.id\n",
    "                LEFT JOIN employers AS e ON e.area = a.id\n",
    "                GROUP BY 1\n",
    "                ORDER BY 3 NULLS FIRST, 2 DESC\n",
    "                LIMIT 1'''\n",
    "areas_cnt_emp_vac = pd.read_sql_query(query_5_2, connection)"
   ]
  },
  {
   "cell_type": "code",
   "execution_count": 25,
   "id": "fbb9bc2f",
   "metadata": {},
   "outputs": [
    {
     "data": {
      "text/html": [
       "<div>\n",
       "<style scoped>\n",
       "    .dataframe tbody tr th:only-of-type {\n",
       "        vertical-align: middle;\n",
       "    }\n",
       "\n",
       "    .dataframe tbody tr th {\n",
       "        vertical-align: top;\n",
       "    }\n",
       "\n",
       "    .dataframe thead th {\n",
       "        text-align: right;\n",
       "    }\n",
       "</style>\n",
       "<table border=\"1\" class=\"dataframe\">\n",
       "  <thead>\n",
       "    <tr style=\"text-align: right;\">\n",
       "      <th></th>\n",
       "      <th>name</th>\n",
       "      <th>cnt_employes</th>\n",
       "      <th>cnt_vacancies</th>\n",
       "    </tr>\n",
       "  </thead>\n",
       "  <tbody>\n",
       "    <tr>\n",
       "      <th>0</th>\n",
       "      <td>Россия</td>\n",
       "      <td>410</td>\n",
       "      <td>0</td>\n",
       "    </tr>\n",
       "  </tbody>\n",
       "</table>\n",
       "</div>"
      ],
      "text/plain": [
       "     name  cnt_employes  cnt_vacancies\n",
       "0  Россия           410              0"
      ]
     },
     "execution_count": 25,
     "metadata": {},
     "output_type": "execute_result"
    }
   ],
   "source": [
    "areas_cnt_emp_vac"
   ]
  },
  {
   "cell_type": "markdown",
   "id": "f2fe0acb-ab1a-4e15-9326-2560e22d73c1",
   "metadata": {
    "id": "f2fe0acb-ab1a-4e15-9326-2560e22d73c1"
   },
   "source": [
    "3. Для каждого работодателя посчитайте количество регионов, в которых он публикует свои вакансии. Отсортируйте результат по убыванию количества.\n"
   ]
  },
  {
   "cell_type": "code",
   "execution_count": 26,
   "id": "6271f8ad-bd2e-4196-ae4a-5b39c4c1010e",
   "metadata": {
    "id": "6271f8ad-bd2e-4196-ae4a-5b39c4c1010e"
   },
   "outputs": [],
   "source": [
    "query_5_3 = f'''SELECT e.name,\n",
    "                COUNT(DISTINCT a.id)\n",
    "                FROM vacancies AS v INNER JOIN employers AS e ON v.employer_id = e.id\n",
    "                INNER JOIN areas AS a ON v.area_id = a.id\n",
    "                GROUP BY 1\n",
    "                ORDER BY 2 DESC\n",
    "                LIMIT 5'''\n",
    "employers_cnt_areas = pd.read_sql_query(query_5_3, connection)\n"
   ]
  },
  {
   "cell_type": "code",
   "execution_count": 27,
   "id": "1EIvX3HasH4F",
   "metadata": {
    "id": "1EIvX3HasH4F"
   },
   "outputs": [
    {
     "data": {
      "text/html": [
       "<div>\n",
       "<style scoped>\n",
       "    .dataframe tbody tr th:only-of-type {\n",
       "        vertical-align: middle;\n",
       "    }\n",
       "\n",
       "    .dataframe tbody tr th {\n",
       "        vertical-align: top;\n",
       "    }\n",
       "\n",
       "    .dataframe thead th {\n",
       "        text-align: right;\n",
       "    }\n",
       "</style>\n",
       "<table border=\"1\" class=\"dataframe\">\n",
       "  <thead>\n",
       "    <tr style=\"text-align: right;\">\n",
       "      <th></th>\n",
       "      <th>name</th>\n",
       "      <th>count</th>\n",
       "    </tr>\n",
       "  </thead>\n",
       "  <tbody>\n",
       "    <tr>\n",
       "      <th>0</th>\n",
       "      <td>Яндекс</td>\n",
       "      <td>181</td>\n",
       "    </tr>\n",
       "    <tr>\n",
       "      <th>1</th>\n",
       "      <td>Ростелеком</td>\n",
       "      <td>152</td>\n",
       "    </tr>\n",
       "    <tr>\n",
       "      <th>2</th>\n",
       "      <td>Спецремонт</td>\n",
       "      <td>116</td>\n",
       "    </tr>\n",
       "    <tr>\n",
       "      <th>3</th>\n",
       "      <td>Поляков Денис Иванович</td>\n",
       "      <td>88</td>\n",
       "    </tr>\n",
       "    <tr>\n",
       "      <th>4</th>\n",
       "      <td>ООО ЕФИН</td>\n",
       "      <td>71</td>\n",
       "    </tr>\n",
       "  </tbody>\n",
       "</table>\n",
       "</div>"
      ],
      "text/plain": [
       "                     name  count\n",
       "0                  Яндекс    181\n",
       "1              Ростелеком    152\n",
       "2              Спецремонт    116\n",
       "3  Поляков Денис Иванович     88\n",
       "4               ООО ЕФИН      71"
      ]
     },
     "execution_count": 27,
     "metadata": {},
     "output_type": "execute_result"
    }
   ],
   "source": [
    "employers_cnt_areas"
   ]
  },
  {
   "cell_type": "markdown",
   "id": "eab2206d-d95b-468b-8e5f-34381abf0ce7",
   "metadata": {
    "id": "eab2206d-d95b-468b-8e5f-34381abf0ce7"
   },
   "source": [
    "4. Напишите запрос для подсчёта количества работодателей, у которых не указана сфера деятельности. "
   ]
  },
  {
   "cell_type": "code",
   "execution_count": 28,
   "id": "80defb23-bfb1-4a18-8be6-bf36aa7165d5",
   "metadata": {
    "id": "80defb23-bfb1-4a18-8be6-bf36aa7165d5"
   },
   "outputs": [],
   "source": [
    "query_5_4 = f'''SELECT COUNT(e.id)\n",
    "                FROM employers AS e\n",
    "                WHERE e.id NOT IN (SELECT employer_id FROM EMPLOYERS_INDUSTRIES)'''\n",
    "employers_wo_industries = pd.read_sql_query(query_5_4, connection)\n"
   ]
  },
  {
   "cell_type": "code",
   "execution_count": 29,
   "id": "Dp_yCx6ysQSu",
   "metadata": {
    "id": "Dp_yCx6ysQSu"
   },
   "outputs": [
    {
     "name": "stdout",
     "output_type": "stream",
     "text": [
      "Количество работодателей, у которых не указана сфера деятельности: 8419\n"
     ]
    }
   ],
   "source": [
    "print('Количество работодателей, у которых не указана сфера деятельности:', employers_wo_industries['count'].iloc[0])"
   ]
  },
  {
   "cell_type": "markdown",
   "id": "0112af31-f6b0-4e3b-82ab-71296e752e5e",
   "metadata": {
    "id": "0112af31-f6b0-4e3b-82ab-71296e752e5e"
   },
   "source": [
    "5. Напишите запрос, чтобы узнать название компании, находящейся на третьем месте в алфавитном списке (по названию) компаний, у которых указано четыре сферы деятельности. "
   ]
  },
  {
   "cell_type": "code",
   "execution_count": 30,
   "id": "973b0cfc-a972-470a-8b4a-68744ef220c4",
   "metadata": {
    "id": "973b0cfc-a972-470a-8b4a-68744ef220c4"
   },
   "outputs": [],
   "source": [
    "query_5_5 = f'''SELECT e.name\n",
    "                FROM employers AS e INNER JOIN employers_industries AS ei ON e.id = ei.employer_id\n",
    "                GROUP BY 1\n",
    "                HAVING COUNT(ei.industry_id) = 4\n",
    "                ORDER BY 1 ASC\n",
    "                OFFSET 2 LIMIT 1\n",
    "                '''\n",
    "employers_industries = pd.read_sql_query(query_5_5, connection)"
   ]
  },
  {
   "cell_type": "code",
   "execution_count": 31,
   "id": "xsPtpp8EsaED",
   "metadata": {
    "id": "xsPtpp8EsaED"
   },
   "outputs": [
    {
     "name": "stdout",
     "output_type": "stream",
     "text": [
      "Компания, находящаяся на третьем месте в алфавитном списке компаний, у которых указано четыре сферы деятельности: 2ГИС\n"
     ]
    }
   ],
   "source": [
    "print('Компания, находящаяся на третьем месте в алфавитном списке компаний, у которых указано четыре сферы деятельности:', employers_industries['name'].iloc[0])"
   ]
  },
  {
   "cell_type": "markdown",
   "id": "3bfcfdaf-755d-4d2b-8ed8-326201dc07ab",
   "metadata": {
    "id": "3bfcfdaf-755d-4d2b-8ed8-326201dc07ab"
   },
   "source": [
    "6. С помощью запроса выясните, у какого количества работодателей в качестве сферы деятельности указана Разработка программного обеспечения.\n"
   ]
  },
  {
   "cell_type": "code",
   "execution_count": 32,
   "id": "ad3f270f-2991-47eb-929b-e8f88a55b0d1",
   "metadata": {
    "id": "ad3f270f-2991-47eb-929b-e8f88a55b0d1"
   },
   "outputs": [],
   "source": [
    "query_5_6 = f'''SELECT COUNT(DISTINCT e.id)\n",
    "                FROM employers AS e INNER JOIN employers_industries AS ei ON e.id = ei.employer_id\n",
    "                INNER JOIN industries AS i ON i.id = ei.industry_id\n",
    "                WHERE i.name = 'Разработка программного обеспечения'\n",
    "                ORDER BY 1 ASC\n",
    "                '''\n",
    "employers_industries_po = pd.read_sql_query(query_5_6, connection)"
   ]
  },
  {
   "cell_type": "code",
   "execution_count": 33,
   "id": "H72qxWM0shPR",
   "metadata": {
    "id": "H72qxWM0shPR"
   },
   "outputs": [
    {
     "name": "stdout",
     "output_type": "stream",
     "text": [
      "У 3553 работодателей в качестве сферы деятельности указана Разработка программного обеспечения.\n"
     ]
    }
   ],
   "source": [
    "print('У {} работодателей в качестве сферы деятельности указана Разработка программного обеспечения.'.format(employers_industries_po['count'].iloc[0]))"
   ]
  },
  {
   "cell_type": "markdown",
   "id": "7b02bb86-0546-40fb-94a4-242f050a5c57",
   "metadata": {
    "id": "7b02bb86-0546-40fb-94a4-242f050a5c57"
   },
   "source": [
    "7. Для компании «Яндекс» выведите список регионов-миллионников, в которых представлены вакансии компании, вместе с количеством вакансий в этих регионах. Также добавьте строку Total с общим количеством вакансий компании. Результат отсортируйте по возрастанию количества.\n",
    "\n",
    "Список городов-милионников надо взять [отсюда](https://ru.wikipedia.org/wiki/%D0%93%D0%BE%D1%80%D0%BE%D0%B4%D0%B0-%D0%BC%D0%B8%D0%BB%D0%BB%D0%B8%D0%BE%D0%BD%D0%B5%D1%80%D1%8B_%D0%A0%D0%BE%D1%81%D1%81%D0%B8%D0%B8). \n",
    "\n",
    "Если возникнут трудности с этим задание посмотрите материалы модуля  PYTHON-17. Как получать данные из веб-источников и API. "
   ]
  },
  {
   "cell_type": "code",
   "execution_count": 34,
   "id": "ZdfrL6gIs1Pn",
   "metadata": {
    "id": "ZdfrL6gIs1Pn"
   },
   "outputs": [],
   "source": [
    "# код для получения списка городов-милионников\n",
    "import requests # Импортируем библиотеку requests\n",
    "url = 'https://ru.wikipedia.org/wiki/%D0%93%D0%BE%D1%80%D0%BE%D0%B4%D0%B0-%D0%BC%D0%B8%D0%BB%D0%BB%D0%B8%D0%BE%D0%BD%D0%B5%D1%80%D1%8B_%D0%A0%D0%BE%D1%81%D1%81%D0%B8%D0%B8' # Определяем адрес страницы\n",
    "df = pd.read_html(url)[1]\n",
    "t = tuple(df['Город'].to_list())"
   ]
  },
  {
   "cell_type": "code",
   "execution_count": 35,
   "id": "5a0e32a4-e68a-4365-8a39-2fe24c542c36",
   "metadata": {
    "id": "5a0e32a4-e68a-4365-8a39-2fe24c542c36"
   },
   "outputs": [],
   "source": [
    "query_5_7 = f'''\n",
    "                (SELECT a.name city,\n",
    "                COUNT(v.id) cnt_vacancies\n",
    "                FROM vacancies AS v INNER JOIN employers AS e ON v.employer_id = e.id\n",
    "                INNER JOIN areas AS a ON v.area_id = a.id\n",
    "                WHERE e.name = 'Яндекс'\n",
    "                AND a.name in {t}\n",
    "                GROUP BY 1\n",
    "                ORDER BY 2 DESC)\n",
    "                \n",
    "                UNION ALL\n",
    "                \n",
    "                (SELECT 'Total',\n",
    "                COUNT(v.id)\n",
    "                FROM vacancies AS v INNER JOIN employers AS e ON v.employer_id = e.id\n",
    "                INNER JOIN areas AS a ON v.area_id = a.id\n",
    "                WHERE e.name = 'Яндекс'\n",
    "                AND a.name in {t}\n",
    "                GROUP BY 1)\n",
    "                ORDER BY 2 ASC'''\n",
    "employers_cnt_areas = pd.read_sql_query(query_5_7, connection)"
   ]
  },
  {
   "cell_type": "code",
   "execution_count": 36,
   "id": "ttPhiO1rsvPq",
   "metadata": {
    "id": "ttPhiO1rsvPq"
   },
   "outputs": [
    {
     "data": {
      "text/html": [
       "<div>\n",
       "<style scoped>\n",
       "    .dataframe tbody tr th:only-of-type {\n",
       "        vertical-align: middle;\n",
       "    }\n",
       "\n",
       "    .dataframe tbody tr th {\n",
       "        vertical-align: top;\n",
       "    }\n",
       "\n",
       "    .dataframe thead th {\n",
       "        text-align: right;\n",
       "    }\n",
       "</style>\n",
       "<table border=\"1\" class=\"dataframe\">\n",
       "  <thead>\n",
       "    <tr style=\"text-align: right;\">\n",
       "      <th></th>\n",
       "      <th>city</th>\n",
       "      <th>cnt_vacancies</th>\n",
       "    </tr>\n",
       "  </thead>\n",
       "  <tbody>\n",
       "    <tr>\n",
       "      <th>0</th>\n",
       "      <td>Омск</td>\n",
       "      <td>21</td>\n",
       "    </tr>\n",
       "    <tr>\n",
       "      <th>1</th>\n",
       "      <td>Челябинск</td>\n",
       "      <td>22</td>\n",
       "    </tr>\n",
       "    <tr>\n",
       "      <th>2</th>\n",
       "      <td>Красноярск</td>\n",
       "      <td>23</td>\n",
       "    </tr>\n",
       "    <tr>\n",
       "      <th>3</th>\n",
       "      <td>Волгоград</td>\n",
       "      <td>24</td>\n",
       "    </tr>\n",
       "    <tr>\n",
       "      <th>4</th>\n",
       "      <td>Казань</td>\n",
       "      <td>25</td>\n",
       "    </tr>\n",
       "    <tr>\n",
       "      <th>5</th>\n",
       "      <td>Ростов-на-Дону</td>\n",
       "      <td>25</td>\n",
       "    </tr>\n",
       "    <tr>\n",
       "      <th>6</th>\n",
       "      <td>Пермь</td>\n",
       "      <td>25</td>\n",
       "    </tr>\n",
       "    <tr>\n",
       "      <th>7</th>\n",
       "      <td>Самара</td>\n",
       "      <td>26</td>\n",
       "    </tr>\n",
       "    <tr>\n",
       "      <th>8</th>\n",
       "      <td>Уфа</td>\n",
       "      <td>26</td>\n",
       "    </tr>\n",
       "    <tr>\n",
       "      <th>9</th>\n",
       "      <td>Краснодар</td>\n",
       "      <td>30</td>\n",
       "    </tr>\n",
       "    <tr>\n",
       "      <th>10</th>\n",
       "      <td>Воронеж</td>\n",
       "      <td>32</td>\n",
       "    </tr>\n",
       "    <tr>\n",
       "      <th>11</th>\n",
       "      <td>Новосибирск</td>\n",
       "      <td>35</td>\n",
       "    </tr>\n",
       "    <tr>\n",
       "      <th>12</th>\n",
       "      <td>Нижний Новгород</td>\n",
       "      <td>36</td>\n",
       "    </tr>\n",
       "    <tr>\n",
       "      <th>13</th>\n",
       "      <td>Екатеринбург</td>\n",
       "      <td>39</td>\n",
       "    </tr>\n",
       "    <tr>\n",
       "      <th>14</th>\n",
       "      <td>Санкт-Петербург</td>\n",
       "      <td>42</td>\n",
       "    </tr>\n",
       "    <tr>\n",
       "      <th>15</th>\n",
       "      <td>Москва</td>\n",
       "      <td>54</td>\n",
       "    </tr>\n",
       "    <tr>\n",
       "      <th>16</th>\n",
       "      <td>Total</td>\n",
       "      <td>485</td>\n",
       "    </tr>\n",
       "  </tbody>\n",
       "</table>\n",
       "</div>"
      ],
      "text/plain": [
       "               city  cnt_vacancies\n",
       "0              Омск             21\n",
       "1         Челябинск             22\n",
       "2        Красноярск             23\n",
       "3         Волгоград             24\n",
       "4            Казань             25\n",
       "5    Ростов-на-Дону             25\n",
       "6             Пермь             25\n",
       "7            Самара             26\n",
       "8               Уфа             26\n",
       "9         Краснодар             30\n",
       "10          Воронеж             32\n",
       "11      Новосибирск             35\n",
       "12  Нижний Новгород             36\n",
       "13     Екатеринбург             39\n",
       "14  Санкт-Петербург             42\n",
       "15           Москва             54\n",
       "16            Total            485"
      ]
     },
     "execution_count": 36,
     "metadata": {},
     "output_type": "execute_result"
    }
   ],
   "source": [
    "employers_cnt_areas"
   ]
  },
  {
   "cell_type": "markdown",
   "id": "04966e40-3bc3-4dc8-9ba2-e80580ce3abc",
   "metadata": {
    "id": "04966e40-3bc3-4dc8-9ba2-e80580ce3abc"
   },
   "source": [
    "***"
   ]
  },
  {
   "cell_type": "markdown",
   "id": "331b1f99",
   "metadata": {
    "id": "aGGyER-yt4SR"
   },
   "source": [
    "# Выводы\n",
    "1. Лидером по количество вакансий является Яндекс, замыкает пятерку лидеров Газпром нефть. Очевидно, что лидеры рынка постоянно нуждаются в кадрах\n",
    "2. В базе есть работодатели, которые не имеют открытых вакансий на текущий момент, большинство таких работодателей находятся в России \n",
    "3. Яндекс имеет самую обширную географию поиска сотрудников\n",
    "4. 8419 работодателей не определились со своей сферой деятельности\n",
    "5. У 15% (3553) работодателей в качестве сферы деятельности указана Разработка программного обеспечения.\n",
    "6. Компания Яндекс ищет 485 сотрудников, самый большой набор идет в Москве и Санкт-Петербурге"
   ]
  },
  {
   "cell_type": "markdown",
   "id": "b1ef156a-efcb-49ce-bb23-90763e7f35b2",
   "metadata": {
    "id": "b1ef156a-efcb-49ce-bb23-90763e7f35b2",
    "tags": []
   },
   "source": [
    "# Юнит 6. Предметный анализ"
   ]
  },
  {
   "cell_type": "markdown",
   "id": "b9cd50a0-992d-4988-8463-2b2b1c4629b4",
   "metadata": {
    "id": "b9cd50a0-992d-4988-8463-2b2b1c4629b4"
   },
   "source": [
    "1. Сколько вакансий имеет отношение к данным?\n",
    "\n",
    "Считаем, что вакансия имеет отношение к данным, если в её названии содержатся слова 'data' или 'данн'.\n",
    "\n",
    "*Подсказка: Обратите внимание, что названия вакансий могут быть написаны в любом регистре.* \n"
   ]
  },
  {
   "cell_type": "code",
   "execution_count": 37,
   "id": "54ab0e50-c0f1-47cc-a54b-bc5c8bc363f9",
   "metadata": {
    "id": "54ab0e50-c0f1-47cc-a54b-bc5c8bc363f9"
   },
   "outputs": [],
   "source": [
    "# текст запроса\n",
    "query_6_1 = f'''select COUNT(id) \n",
    "                from vacancies\n",
    "                WHERE LOWER(name) LIKE '%data%' OR LOWER(name) LIKE '%данн%'\n",
    "                '''\n",
    "data_vac = pd.read_sql_query(query_6_1, connection)"
   ]
  },
  {
   "cell_type": "code",
   "execution_count": 38,
   "id": "9F1meAqsuUjd",
   "metadata": {
    "id": "9F1meAqsuUjd"
   },
   "outputs": [
    {
     "name": "stdout",
     "output_type": "stream",
     "text": [
      "1771 вакансий имеет отношение к данным.\n"
     ]
    }
   ],
   "source": [
    "print('{} вакансий имеет отношение к данным.'.format(data_vac['count'].iloc[0]))"
   ]
  },
  {
   "cell_type": "markdown",
   "id": "4dea20cb-a36b-474a-a0b9-e08e8e3857a5",
   "metadata": {
    "id": "4dea20cb-a36b-474a-a0b9-e08e8e3857a5"
   },
   "source": [
    "2. Сколько есть подходящих вакансий для начинающего дата-сайентиста? \n",
    "Будем считать вакансиями для дата-сайентистов такие, в названии которых есть хотя бы одно из следующих сочетаний:\n",
    "* 'data scientist'\n",
    "* 'data science'\n",
    "* 'исследователь данных'\n",
    "* 'ML' (здесь не нужно брать вакансии по HTML)\n",
    "* 'machine learning'\n",
    "* 'машинн%обучен%'\n",
    "\n",
    "** В следующих заданиях мы продолжим работать с вакансиями по этому условию.*\n",
    "\n",
    "Считаем вакансиями для специалистов уровня Junior следующие:\n",
    "* в названии есть слово 'junior' *или*\n",
    "* требуемый опыт — Нет опыта *или*\n",
    "* тип трудоустройства — Стажировка.\n",
    " "
   ]
  },
  {
   "cell_type": "code",
   "execution_count": 39,
   "id": "9c61b3c0-bb66-46c9-ae1e-81d3f5752b4a",
   "metadata": {
    "id": "9c61b3c0-bb66-46c9-ae1e-81d3f5752b4a"
   },
   "outputs": [],
   "source": [
    "query_6_2 = f'''select COUNT(id) \n",
    "                from vacancies\n",
    "                WHERE (LOWER(name) LIKE '%data scientist%' \n",
    "                      OR LOWER(name) LIKE '%data science%'\n",
    "                      OR LOWER(name) LIKE '%исследователь данных%'\n",
    "                      OR LOWER(name) LIKE '%machine learning%'\n",
    "                      OR LOWER(name) LIKE '%машинн%обучен%'\n",
    "                      OR (name LIKE '%ML%'\n",
    "                      AND name NOT LIKE '%HTML%'))\n",
    "                      AND (LOWER(name) LIKE '%junior%'\n",
    "                      OR experience = 'Нет опыта'\n",
    "                      OR employment = 'Стажировка'\n",
    "                      )\n",
    "                      \n",
    "                '''\n",
    "query_6_2_1 = f'''select COUNT(id) \n",
    "                from vacancies\n",
    "                WHERE (LOWER(name) LIKE '%data scientist%' \n",
    "                      OR LOWER(name) LIKE '%data science%'\n",
    "                      OR LOWER(name) LIKE '%исследователь данных%'\n",
    "                      OR LOWER(name) LIKE '%machine learning%'\n",
    "                      OR LOWER(name) LIKE '%машинн%обучен%'\n",
    "                      OR (name LIKE '%ML%'\n",
    "                      AND name NOT LIKE '%HTML%'))\n",
    "                      \n",
    "                      \n",
    "                '''\n",
    "ds_vac_jun = pd.read_sql_query(query_6_2, connection)\n",
    "ds_vac = pd.read_sql_query(query_6_2_1, connection)"
   ]
  },
  {
   "cell_type": "code",
   "execution_count": 40,
   "id": "ZNM-LLYuu1dj",
   "metadata": {
    "id": "ZNM-LLYuu1dj"
   },
   "outputs": [
    {
     "name": "stdout",
     "output_type": "stream",
     "text": [
      "51 из 480 вакансий подходят для начинающего дата-сайентиста.\n",
      "Это составляет 11.0% от общего числа вакансий для дата-сайентиста.\n"
     ]
    }
   ],
   "source": [
    "# результат запроса\n",
    "print('{} из {} вакансий подходят для начинающего дата-сайентиста.'.format(ds_vac_jun['count'].iloc[0],ds_vac['count'].iloc[0] ))\n",
    "print('Это составляет {}% от общего числа вакансий для дата-сайентиста.'.format(round(ds_vac_jun['count'].iloc[0]/ds_vac['count'].iloc[0]*100,0)))"
   ]
  },
  {
   "cell_type": "markdown",
   "id": "eedceb80-c5ca-480e-b27a-278dfb8b4438",
   "metadata": {
    "id": "eedceb80-c5ca-480e-b27a-278dfb8b4438"
   },
   "source": [
    "3. Сколько есть вакансий для DS, в которых в качестве ключевого навыка указан SQL или postgres?\n",
    "\n",
    "** Критерии для отнесения вакансии к DS указаны в предыдущем задании.*"
   ]
  },
  {
   "cell_type": "code",
   "execution_count": 41,
   "id": "69621713-0cc5-4f1b-a1d7-bb144fa6148c",
   "metadata": {
    "id": "69621713-0cc5-4f1b-a1d7-bb144fa6148c"
   },
   "outputs": [],
   "source": [
    "# текст запроса\n",
    "query_6_3 = f'''select COUNT(id) \n",
    "                from vacancies\n",
    "                WHERE (LOWER(name) LIKE '%data scientist%' \n",
    "                      OR LOWER(name) LIKE '%data science%'\n",
    "                      OR LOWER(name) LIKE '%исследователь данных%'\n",
    "                      OR LOWER(name) LIKE '%machine learning%'\n",
    "                      OR LOWER(name) LIKE '%машинн%обучен%'\n",
    "                      OR (name LIKE '%ML%'\n",
    "                      AND name NOT LIKE '%HTML%'))\n",
    "                      AND (LOWER(key_skills) LIKE '%sql%'\n",
    "                      OR LOWER(key_skills) LIKE '%postgres%')\n",
    "                      \n",
    "                '''\n",
    "ds_sql_pg_vac = pd.read_sql_query(query_6_3, connection)\n"
   ]
  },
  {
   "cell_type": "code",
   "execution_count": 42,
   "id": "c9899925",
   "metadata": {},
   "outputs": [
    {
     "name": "stdout",
     "output_type": "stream",
     "text": [
      "201 вакансий для DS, в которых в качестве ключевого навыка указан SQL или postgres.\n",
      "Что составляет 42.0% от общего числа DS вакансий\n"
     ]
    }
   ],
   "source": [
    "print('{} вакансий для DS, в которых в качестве ключевого навыка указан SQL или postgres.'.format(ds_sql_pg_vac['count'].iloc[0]))\n",
    "print('Что составляет {}% от общего числа DS вакансий'.format(round(ds_sql_pg_vac['count'].iloc[0]/ds_vac['count'].iloc[0]*100,0)))"
   ]
  },
  {
   "cell_type": "markdown",
   "id": "1be1e9c6-37cf-4a5f-bfeb-04cab799dc80",
   "metadata": {
    "id": "1be1e9c6-37cf-4a5f-bfeb-04cab799dc80"
   },
   "source": [
    "4. Проверьте, насколько популярен Python в требованиях работодателей к DS.Для этого вычислите количество вакансий, в которых в качестве ключевого навыка указан Python.\n",
    "\n",
    "** Это можно сделать помощью запроса, аналогичного предыдущему.*"
   ]
  },
  {
   "cell_type": "code",
   "execution_count": 43,
   "id": "f7aff45f",
   "metadata": {},
   "outputs": [],
   "source": [
    "query_6_4 = f'''select COUNT(id) \n",
    "                from vacancies\n",
    "                WHERE (LOWER(name) LIKE '%data scientist%' \n",
    "                      OR LOWER(name) LIKE '%data science%'\n",
    "                      OR LOWER(name) LIKE '%исследователь данных%'\n",
    "                      OR LOWER(name) LIKE '%machine learning%'\n",
    "                      OR LOWER(name) LIKE '%машинн%обучен%'\n",
    "                      OR (name LIKE '%ML%'\n",
    "                      AND name NOT LIKE '%HTML%'))\n",
    "                      AND (LOWER(key_skills) LIKE '%python%'\n",
    "                      )\n",
    "                      \n",
    "                '''\n",
    "ds_py_vac = pd.read_sql_query(query_6_4, connection)"
   ]
  },
  {
   "cell_type": "code",
   "execution_count": 44,
   "id": "1d5941ca",
   "metadata": {},
   "outputs": [
    {
     "name": "stdout",
     "output_type": "stream",
     "text": [
      "351 вакансий, в которых в качестве ключевого навыка указан Python.\n",
      "Что составляет 73.0% от общего числа DS вакансий\n"
     ]
    }
   ],
   "source": [
    "print('{} вакансий, в которых в качестве ключевого навыка указан Python.'.format(ds_py_vac['count'].iloc[0]))\n",
    "print('Что составляет {}% от общего числа DS вакансий'.format(round(ds_py_vac['count'].iloc[0]/ds_vac['count'].iloc[0]*100,0)))"
   ]
  },
  {
   "cell_type": "markdown",
   "id": "ec3c8db7-fa21-4a41-a994-1af63742a642",
   "metadata": {
    "id": "ec3c8db7-fa21-4a41-a994-1af63742a642"
   },
   "source": [
    "5. Сколько ключевых навыков в среднем указывают в вакансиях для DS?\n",
    "Ответ округлите до двух знаков после точки-разделителя."
   ]
  },
  {
   "cell_type": "code",
   "execution_count": 45,
   "id": "0036a355-9ccf-4564-8b01-73d8194297e7",
   "metadata": {
    "id": "0036a355-9ccf-4564-8b01-73d8194297e7"
   },
   "outputs": [],
   "source": [
    "query_6_5 = f'''SELECT \n",
    "                ROUND(AVG(CHAR_LENGTH(key_skills) - CHAR_LENGTH(REPLACE(key_skills, CHR(9),''))+1),2) count\n",
    "                from vacancies\n",
    "                WHERE (LOWER(name) LIKE '%data scientist%' \n",
    "                      OR LOWER(name) LIKE '%data science%'\n",
    "                      OR LOWER(name) LIKE '%исследователь данных%'\n",
    "                      OR LOWER(name) LIKE '%machine learning%'\n",
    "                      OR LOWER(name) LIKE '%машинн%обучен%'\n",
    "                      OR (name LIKE '%ML%'\n",
    "                      AND name NOT LIKE '%HTML%'))\n",
    "                      AND (key_skills IS NOT NULL OR LOWER(key_skills) NOT LIKE '%none%' )\n",
    "                      \n",
    "                '''\n",
    "ds_key_skills_cnt = pd.read_sql_query(query_6_5, connection)\n",
    "\n",
    "query_6_5_1 = f'''SELECT \n",
    "                ROUND(AVG(CHAR_LENGTH(key_skills) - CHAR_LENGTH(REPLACE(key_skills, CHR(9),''))+1),2) count\n",
    "                from vacancies\n",
    "                WHERE  (key_skills IS NOT NULL OR LOWER(key_skills) NOT LIKE '%none%' )\n",
    "                      \n",
    "               '''\n",
    "key_skills_cnt = pd.read_sql_query(query_6_5_1, connection)\n"
   ]
  },
  {
   "cell_type": "code",
   "execution_count": 46,
   "id": "1i-5WyucvQ6v",
   "metadata": {
    "id": "1i-5WyucvQ6v"
   },
   "outputs": [
    {
     "name": "stdout",
     "output_type": "stream",
     "text": [
      "В среднем в вакансиях для DS указывают 6.41 ключевых навыков.\n",
      "В среднем в вакансиях указывают 6.37 ключевых навыков.\n"
     ]
    }
   ],
   "source": [
    "print('В среднем в вакансиях для DS указывают {} ключевых навыков.'.format(ds_key_skills_cnt['count'].iloc[0]))\n",
    "print('В среднем в вакансиях указывают {} ключевых навыков.'.format(key_skills_cnt['count'].iloc[0]))"
   ]
  },
  {
   "cell_type": "markdown",
   "id": "1041c17a-ca8f-4543-a0ca-32778914fb00",
   "metadata": {
    "id": "1041c17a-ca8f-4543-a0ca-32778914fb00"
   },
   "source": [
    "6. Напишите запрос, позволяющий вычислить, какую зарплату для DS в **среднем** указывают для каждого типа требуемого опыта (уникальное значение из поля *experience*). \n",
    "\n",
    "При решении задачи примите во внимание следующее:\n",
    "1. Рассматриваем только вакансии, у которых заполнено хотя бы одно из двух полей с зарплатой.\n",
    "2. Если заполнены оба поля с зарплатой, то считаем зарплату по каждой вакансии как сумму двух полей, делённую на 2. Если заполнено только одно из полей, то его и считаем зарплатой по вакансии.\n",
    "3. Если в расчётах участвует null, в результате он тоже даст null (посмотрите, что возвращает запрос select 1 + null). Чтобы избежать этой ситуацию, мы воспользуемся функцией [coalesce](https://postgrespro.ru/docs/postgresql/9.5/functions-conditional#functions-coalesce-nvl-ifnull), которая заменит null на значение, которое мы передадим. Например, посмотрите, что возвращает запрос `select 1 + coalesce(null, 0)`\n",
    "\n",
    "Выясните, на какую зарплату в среднем может рассчитывать дата-сайентист с опытом работы от 3 до 6 лет. Результат округлите до целого числа. "
   ]
  },
  {
   "cell_type": "code",
   "execution_count": 47,
   "id": "6a743d39-5204-48d3-8271-b9f88e68d40e",
   "metadata": {
    "id": "6a743d39-5204-48d3-8271-b9f88e68d40e"
   },
   "outputs": [],
   "source": [
    "query_6_6 = f'''SELECT experience,\n",
    "                AVG(CASE WHEN salary_from IS NULL THEN salary_to\n",
    "                     WHEN salary_to IS NULL THEN salary_from\n",
    "                     ELSE (salary_from+salary_to)/2\n",
    "                END)\n",
    "                FROM vacancies\n",
    "                WHERE \n",
    "                      (LOWER(name) LIKE '%data scientist%' \n",
    "                      OR LOWER(name) LIKE '%data science%'\n",
    "                      OR LOWER(name) LIKE '%исследователь данных%'\n",
    "                      OR LOWER(name) LIKE '%machine learning%'\n",
    "                      OR LOWER(name) LIKE '%машинн%обучен%'\n",
    "                      OR (name LIKE '%ML%'\n",
    "                      AND name NOT LIKE '%HTML%'))\n",
    "                      AND (salary_from IS NOT NULL OR salary_to IS NOT NULL)\n",
    "                GROUP BY 1\n",
    "                '''\n",
    "\n",
    "avg_salary = pd.read_sql_query(query_6_6, connection)"
   ]
  },
  {
   "cell_type": "code",
   "execution_count": 48,
   "id": "aRIJ0mZEwU1_",
   "metadata": {
    "id": "aRIJ0mZEwU1_"
   },
   "outputs": [
    {
     "data": {
      "text/html": [
       "<div>\n",
       "<style scoped>\n",
       "    .dataframe tbody tr th:only-of-type {\n",
       "        vertical-align: middle;\n",
       "    }\n",
       "\n",
       "    .dataframe tbody tr th {\n",
       "        vertical-align: top;\n",
       "    }\n",
       "\n",
       "    .dataframe thead th {\n",
       "        text-align: right;\n",
       "    }\n",
       "</style>\n",
       "<table border=\"1\" class=\"dataframe\">\n",
       "  <thead>\n",
       "    <tr style=\"text-align: right;\">\n",
       "      <th></th>\n",
       "      <th>experience</th>\n",
       "      <th>avg</th>\n",
       "    </tr>\n",
       "  </thead>\n",
       "  <tbody>\n",
       "    <tr>\n",
       "      <th>0</th>\n",
       "      <td>Нет опыта</td>\n",
       "      <td>74642.857143</td>\n",
       "    </tr>\n",
       "    <tr>\n",
       "      <th>1</th>\n",
       "      <td>От 1 года до 3 лет</td>\n",
       "      <td>139674.750000</td>\n",
       "    </tr>\n",
       "    <tr>\n",
       "      <th>2</th>\n",
       "      <td>От 3 до 6 лет</td>\n",
       "      <td>243114.666667</td>\n",
       "    </tr>\n",
       "  </tbody>\n",
       "</table>\n",
       "</div>"
      ],
      "text/plain": [
       "           experience            avg\n",
       "0           Нет опыта   74642.857143\n",
       "1  От 1 года до 3 лет  139674.750000\n",
       "2       От 3 до 6 лет  243114.666667"
      ]
     },
     "execution_count": 48,
     "metadata": {},
     "output_type": "execute_result"
    }
   ],
   "source": [
    "avg_salary"
   ]
  },
  {
   "cell_type": "code",
   "execution_count": 49,
   "id": "fedf2ec4",
   "metadata": {},
   "outputs": [],
   "source": [
    "#Посмотрим, в каком регионе зарплата начинающего DS выше\n",
    "query_6_6_1 = f'''SELECT a.name,\n",
    "                AVG(CASE WHEN salary_from IS NULL THEN salary_to\n",
    "                     WHEN salary_to IS NULL THEN salary_from\n",
    "                     ELSE (salary_from+salary_to)/2\n",
    "                END)\n",
    "                FROM vacancies AS v INNER JOIN areas AS a ON v.area_id = a.id\n",
    "                WHERE \n",
    "                      (LOWER(v.name) LIKE '%data scientist%' \n",
    "                      OR LOWER(v.name) LIKE '%data science%'\n",
    "                      OR LOWER(v.name) LIKE '%исследователь данных%'\n",
    "                      OR LOWER(v.name) LIKE '%machine learning%'\n",
    "                      OR LOWER(v.name) LIKE '%машинн%обучен%'\n",
    "                      OR (v.name LIKE '%ML%'\n",
    "                      AND v.name NOT LIKE '%HTML%'))\n",
    "                      AND (salary_from IS NOT NULL OR salary_to IS NOT NULL)\n",
    "                      AND (LOWER(v.name) LIKE '%junior%'\n",
    "                      OR experience = 'Нет опыта'\n",
    "                      OR employment = 'Стажировка'\n",
    "                      )\n",
    "                GROUP BY 1\n",
    "                ORDER BY 2 DESC\n",
    "                '''\n",
    "\n",
    "avg_salary_by_area = pd.read_sql_query(query_6_6_1, connection)"
   ]
  },
  {
   "cell_type": "code",
   "execution_count": 50,
   "id": "2152d7cc",
   "metadata": {},
   "outputs": [
    {
     "data": {
      "text/html": [
       "<div>\n",
       "<style scoped>\n",
       "    .dataframe tbody tr th:only-of-type {\n",
       "        vertical-align: middle;\n",
       "    }\n",
       "\n",
       "    .dataframe tbody tr th {\n",
       "        vertical-align: top;\n",
       "    }\n",
       "\n",
       "    .dataframe thead th {\n",
       "        text-align: right;\n",
       "    }\n",
       "</style>\n",
       "<table border=\"1\" class=\"dataframe\">\n",
       "  <thead>\n",
       "    <tr style=\"text-align: right;\">\n",
       "      <th></th>\n",
       "      <th>name</th>\n",
       "      <th>avg</th>\n",
       "    </tr>\n",
       "  </thead>\n",
       "  <tbody>\n",
       "    <tr>\n",
       "      <th>0</th>\n",
       "      <td>Санкт-Петербург</td>\n",
       "      <td>87666.666667</td>\n",
       "    </tr>\n",
       "    <tr>\n",
       "      <th>1</th>\n",
       "      <td>Новосибирск</td>\n",
       "      <td>80000.000000</td>\n",
       "    </tr>\n",
       "    <tr>\n",
       "      <th>2</th>\n",
       "      <td>Москва</td>\n",
       "      <td>72500.000000</td>\n",
       "    </tr>\n",
       "    <tr>\n",
       "      <th>3</th>\n",
       "      <td>Владивосток</td>\n",
       "      <td>70000.000000</td>\n",
       "    </tr>\n",
       "    <tr>\n",
       "      <th>4</th>\n",
       "      <td>Пермь</td>\n",
       "      <td>60000.000000</td>\n",
       "    </tr>\n",
       "    <tr>\n",
       "      <th>5</th>\n",
       "      <td>Ростов-на-Дону</td>\n",
       "      <td>50000.000000</td>\n",
       "    </tr>\n",
       "    <tr>\n",
       "      <th>6</th>\n",
       "      <td>Екатеринбург</td>\n",
       "      <td>37000.000000</td>\n",
       "    </tr>\n",
       "  </tbody>\n",
       "</table>\n",
       "</div>"
      ],
      "text/plain": [
       "              name           avg\n",
       "0  Санкт-Петербург  87666.666667\n",
       "1      Новосибирск  80000.000000\n",
       "2           Москва  72500.000000\n",
       "3      Владивосток  70000.000000\n",
       "4            Пермь  60000.000000\n",
       "5   Ростов-на-Дону  50000.000000\n",
       "6     Екатеринбург  37000.000000"
      ]
     },
     "execution_count": 50,
     "metadata": {},
     "output_type": "execute_result"
    }
   ],
   "source": [
    "avg_salary_by_area"
   ]
  },
  {
   "cell_type": "code",
   "execution_count": 51,
   "id": "3d79d854",
   "metadata": {},
   "outputs": [
    {
     "data": {
      "text/html": [
       "<div>\n",
       "<style scoped>\n",
       "    .dataframe tbody tr th:only-of-type {\n",
       "        vertical-align: middle;\n",
       "    }\n",
       "\n",
       "    .dataframe tbody tr th {\n",
       "        vertical-align: top;\n",
       "    }\n",
       "\n",
       "    .dataframe thead th {\n",
       "        text-align: right;\n",
       "    }\n",
       "</style>\n",
       "<table border=\"1\" class=\"dataframe\">\n",
       "  <thead>\n",
       "    <tr style=\"text-align: right;\">\n",
       "      <th></th>\n",
       "      <th>name</th>\n",
       "      <th>avg</th>\n",
       "    </tr>\n",
       "  </thead>\n",
       "  <tbody>\n",
       "    <tr>\n",
       "      <th>0</th>\n",
       "      <td>Кипр</td>\n",
       "      <td>300000.000000</td>\n",
       "    </tr>\n",
       "    <tr>\n",
       "      <th>1</th>\n",
       "      <td>Армения</td>\n",
       "      <td>268862.666667</td>\n",
       "    </tr>\n",
       "    <tr>\n",
       "      <th>2</th>\n",
       "      <td>Черногория</td>\n",
       "      <td>233794.000000</td>\n",
       "    </tr>\n",
       "    <tr>\n",
       "      <th>3</th>\n",
       "      <td>Турция</td>\n",
       "      <td>233794.000000</td>\n",
       "    </tr>\n",
       "    <tr>\n",
       "      <th>4</th>\n",
       "      <td>Сербия</td>\n",
       "      <td>233794.000000</td>\n",
       "    </tr>\n",
       "    <tr>\n",
       "      <th>5</th>\n",
       "      <td>Москва</td>\n",
       "      <td>207629.629630</td>\n",
       "    </tr>\n",
       "    <tr>\n",
       "      <th>6</th>\n",
       "      <td>Белгород</td>\n",
       "      <td>200000.000000</td>\n",
       "    </tr>\n",
       "    <tr>\n",
       "      <th>7</th>\n",
       "      <td>Санкт-Петербург</td>\n",
       "      <td>173335.142857</td>\n",
       "    </tr>\n",
       "    <tr>\n",
       "      <th>8</th>\n",
       "      <td>Новосибирск</td>\n",
       "      <td>166333.333333</td>\n",
       "    </tr>\n",
       "    <tr>\n",
       "      <th>9</th>\n",
       "      <td>Рязань</td>\n",
       "      <td>136666.666667</td>\n",
       "    </tr>\n",
       "  </tbody>\n",
       "</table>\n",
       "</div>"
      ],
      "text/plain": [
       "              name            avg\n",
       "0             Кипр  300000.000000\n",
       "1          Армения  268862.666667\n",
       "2       Черногория  233794.000000\n",
       "3           Турция  233794.000000\n",
       "4           Сербия  233794.000000\n",
       "5           Москва  207629.629630\n",
       "6         Белгород  200000.000000\n",
       "7  Санкт-Петербург  173335.142857\n",
       "8      Новосибирск  166333.333333\n",
       "9           Рязань  136666.666667"
      ]
     },
     "execution_count": 51,
     "metadata": {},
     "output_type": "execute_result"
    }
   ],
   "source": [
    "#Посмотрим, в каком регионе самые дорогие DS\n",
    "query_6_6_3 = f'''SELECT a.name,\n",
    "                AVG(CASE WHEN salary_from IS NULL THEN salary_to\n",
    "                     WHEN salary_to IS NULL THEN salary_from\n",
    "                     ELSE (salary_from+salary_to)/2\n",
    "                END)\n",
    "                FROM vacancies AS v INNER JOIN areas AS a ON v.area_id = a.id\n",
    "                WHERE \n",
    "                      (LOWER(v.name) LIKE '%data scientist%' \n",
    "                      OR LOWER(v.name) LIKE '%data science%'\n",
    "                      OR LOWER(v.name) LIKE '%исследователь данных%'\n",
    "                      OR LOWER(v.name) LIKE '%machine learning%'\n",
    "                      OR LOWER(v.name) LIKE '%машинн%обучен%'\n",
    "                      OR (v.name LIKE '%ML%'\n",
    "                      AND v.name NOT LIKE '%HTML%'))\n",
    "                      AND (salary_from IS NOT NULL OR salary_to IS NOT NULL)\n",
    "                      \n",
    "                GROUP BY 1\n",
    "                ORDER BY 2 DESC\n",
    "                LIMIT 10\n",
    "                '''\n",
    "\n",
    "avg_salary_by_area = pd.read_sql_query(query_6_6_3, connection)\n",
    "avg_salary_by_area"
   ]
  },
  {
   "cell_type": "code",
   "execution_count": 52,
   "id": "75350ecc",
   "metadata": {},
   "outputs": [
    {
     "data": {
      "text/html": [
       "<div>\n",
       "<style scoped>\n",
       "    .dataframe tbody tr th:only-of-type {\n",
       "        vertical-align: middle;\n",
       "    }\n",
       "\n",
       "    .dataframe tbody tr th {\n",
       "        vertical-align: top;\n",
       "    }\n",
       "\n",
       "    .dataframe thead th {\n",
       "        text-align: right;\n",
       "    }\n",
       "</style>\n",
       "<table border=\"1\" class=\"dataframe\">\n",
       "  <thead>\n",
       "    <tr style=\"text-align: right;\">\n",
       "      <th></th>\n",
       "      <th>name</th>\n",
       "      <th>count</th>\n",
       "    </tr>\n",
       "  </thead>\n",
       "  <tbody>\n",
       "    <tr>\n",
       "      <th>0</th>\n",
       "      <td>Разработка программного обеспечения</td>\n",
       "      <td>148</td>\n",
       "    </tr>\n",
       "    <tr>\n",
       "      <th>1</th>\n",
       "      <td>Системная интеграция,  автоматизации технологи...</td>\n",
       "      <td>139</td>\n",
       "    </tr>\n",
       "    <tr>\n",
       "      <th>2</th>\n",
       "      <td>Банк</td>\n",
       "      <td>92</td>\n",
       "    </tr>\n",
       "    <tr>\n",
       "      <th>3</th>\n",
       "      <td>Интернет-компания (поисковики, платежные систе...</td>\n",
       "      <td>79</td>\n",
       "    </tr>\n",
       "    <tr>\n",
       "      <th>4</th>\n",
       "      <td>Мобильная связь</td>\n",
       "      <td>23</td>\n",
       "    </tr>\n",
       "    <tr>\n",
       "      <th>5</th>\n",
       "      <td>Маркетинговые, рекламные, BTL, дизайнерские, E...</td>\n",
       "      <td>22</td>\n",
       "    </tr>\n",
       "    <tr>\n",
       "      <th>6</th>\n",
       "      <td>Управляющая, инвестиционная компания (управлен...</td>\n",
       "      <td>21</td>\n",
       "    </tr>\n",
       "    <tr>\n",
       "      <th>7</th>\n",
       "      <td>Консалтинговые услуги</td>\n",
       "      <td>16</td>\n",
       "    </tr>\n",
       "    <tr>\n",
       "      <th>8</th>\n",
       "      <td>Фиксированная связь</td>\n",
       "      <td>13</td>\n",
       "    </tr>\n",
       "    <tr>\n",
       "      <th>9</th>\n",
       "      <td>Научно-исследовательская, научная, академическ...</td>\n",
       "      <td>9</td>\n",
       "    </tr>\n",
       "  </tbody>\n",
       "</table>\n",
       "</div>"
      ],
      "text/plain": [
       "                                                name  count\n",
       "0                Разработка программного обеспечения    148\n",
       "1  Системная интеграция,  автоматизации технологи...    139\n",
       "2                                               Банк     92\n",
       "3  Интернет-компания (поисковики, платежные систе...     79\n",
       "4                                    Мобильная связь     23\n",
       "5  Маркетинговые, рекламные, BTL, дизайнерские, E...     22\n",
       "6  Управляющая, инвестиционная компания (управлен...     21\n",
       "7                              Консалтинговые услуги     16\n",
       "8                                Фиксированная связь     13\n",
       "9  Научно-исследовательская, научная, академическ...      9"
      ]
     },
     "execution_count": 52,
     "metadata": {},
     "output_type": "execute_result"
    }
   ],
   "source": [
    "#Также интересно посмотреть, в каких индустриях нанимают DS\n",
    "query_6_6_2 = f'''SELECT i.name,\n",
    "                COUNT(v.id)\n",
    "                from vacancies AS v INNER JOIN employers AS e ON v.employer_id = e.id\n",
    "                INNER JOIN employers_industries AS ei ON e.id = ei.employer_id\n",
    "                INNER JOIN industries AS i ON i.id = ei.industry_id\n",
    "                WHERE (LOWER(v.name) LIKE '%data scientist%' \n",
    "                      OR LOWER(v.name) LIKE '%data science%'\n",
    "                      OR LOWER(v.name) LIKE '%исследователь данных%'\n",
    "                      OR LOWER(v.name) LIKE '%machine learning%'\n",
    "                      OR LOWER(v.name) LIKE '%машинн%обучен%'\n",
    "                      OR (v.name LIKE '%ML%'\n",
    "                      AND v.name NOT LIKE '%HTML%'))\n",
    "                GROUP BY 1\n",
    "                ORDER BY 2 DESC\n",
    "                LIMIT 10\n",
    "  \n",
    "                '''\n",
    "ds_ind = pd.read_sql_query(query_6_6_2, connection)\n",
    "ds_ind"
   ]
  },
  {
   "cell_type": "markdown",
   "id": "6a7892b4-4113-4746-adce-18aa2844f18e",
   "metadata": {
    "id": "6a7892b4-4113-4746-adce-18aa2844f18e"
   },
   "source": [
    "***"
   ]
  },
  {
   "cell_type": "markdown",
   "id": "35cd4a8c",
   "metadata": {
    "id": "UjLWUptVwY1o"
   },
   "source": [
    "# Выводы\n",
    "1. 1771 вакансий имеет отношение к данным\n",
    "2. 480 вакансий в базе подходит для дата-сайентиста, из них лишь 11% подходит для начинающего специалиста\n",
    "3. В среднем в вакансиях для DS указывается 6,41 ключевой навыков, среднем список ключевых навыков состоит их 6,37, т.е от DS ожидают немного большего, чем в среднем по рынку труда\n",
    "4. Python является востребованным навыком и упоминается в 73% вакансий, SQL также необходим дата-сайентисту в 42% вакансий\n",
    "5. Зарплата дата-сайентиста растет вместе с опытом, стартовая средняя зарплата составлет 74643 руб. \n",
    "6. Самые высокие зарплаты в DS подучают новички из Санкт-Петербурга и Новосибирска\n",
    "7. DS ищут в основном компании связанные с IT (Разработка ПО, системная интеграция), однако в банковской сфере также идет активный поиск"
   ]
  },
  {
   "cell_type": "markdown",
   "id": "c0ED6fh7wiBT",
   "metadata": {
    "id": "c0ED6fh7wiBT"
   },
   "source": [
    "# Общий вывод по проекту"
   ]
  },
  {
   "cell_type": "markdown",
   "id": "4e10cd66",
   "metadata": {
    "id": "h9B3BL-wwj18"
   },
   "source": [
    "1. 1% вакансий в базе данных подходит для DS\n",
    "2. Дата-сайентист должен расширять свой стек, так как список ключевых навыков, указанный в вакансиях, состоит в среднем из 6,41 пункта (в дальнейшем исследовании нужно вывести список и количество упоминаний ключевых навыков для Дата-сайентиста)\n",
    "3. Python является ключевой компетенцией Дата-сайентиста и требуется в 73% случаев\n",
    "4. SQL также востребован\n",
    "4. Зарплата дата-сайентиста растет вместе с опытом, обращает внимание, что DS специалистов с опытом больше 6 лет не ищут, возможно это связано с молодостью профессии, однако имеет смысл проверить, куда вырастают опытные специалисты\n",
    "5. Самые высокие зарплаты предлагают работодатели за пределами России"
   ]
  }
 ],
 "metadata": {
  "colab": {
   "collapsed_sections": [
    "8d62a9f3-f64e-4fe7-bdac-c4dffa16155e"
   ],
   "provenance": []
  },
  "kernelspec": {
   "display_name": "Python 3 (ipykernel)",
   "language": "python",
   "name": "python3"
  },
  "language_info": {
   "codemirror_mode": {
    "name": "ipython",
    "version": 3
   },
   "file_extension": ".py",
   "mimetype": "text/x-python",
   "name": "python",
   "nbconvert_exporter": "python",
   "pygments_lexer": "ipython3",
   "version": "3.9.13"
  }
 },
 "nbformat": 4,
 "nbformat_minor": 5
}
