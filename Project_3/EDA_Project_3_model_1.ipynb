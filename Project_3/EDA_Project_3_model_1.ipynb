{
 "cells": [
  {
   "cell_type": "code",
   "execution_count": 1,
   "metadata": {},
   "outputs": [],
   "source": [
    "import pandas as pd\n",
    "from sklearn.model_selection import train_test_split \n",
    "from sklearn.ensemble import RandomForestRegressor # инструмент для создания и обучения модели  \n",
    "from sklearn import metrics # инструменты для оценки точности модели  \n",
    "from sklearn.model_selection import train_test_split\n",
    "from sklearn.linear_model import LinearRegression\n",
    "from sklearn.metrics import mean_absolute_error\n",
    "from sklearn.preprocessing import StandardScaler\n",
    "from sklearn.preprocessing import RobustScaler\n",
    "import seaborn as sns"
   ]
  },
  {
   "cell_type": "code",
   "execution_count": 2,
   "metadata": {},
   "outputs": [
    {
     "data": {
      "text/html": [
       "<div>\n",
       "<style scoped>\n",
       "    .dataframe tbody tr th:only-of-type {\n",
       "        vertical-align: middle;\n",
       "    }\n",
       "\n",
       "    .dataframe tbody tr th {\n",
       "        vertical-align: top;\n",
       "    }\n",
       "\n",
       "    .dataframe thead th {\n",
       "        text-align: right;\n",
       "    }\n",
       "</style>\n",
       "<table border=\"1\" class=\"dataframe\">\n",
       "  <thead>\n",
       "    <tr style=\"text-align: right;\">\n",
       "      <th></th>\n",
       "      <th>hotel_address</th>\n",
       "      <th>additional_number_of_scoring</th>\n",
       "      <th>review_date</th>\n",
       "      <th>average_score</th>\n",
       "      <th>hotel_name</th>\n",
       "      <th>reviewer_nationality</th>\n",
       "      <th>negative_review</th>\n",
       "      <th>review_total_negative_word_counts</th>\n",
       "      <th>total_number_of_reviews</th>\n",
       "      <th>positive_review</th>\n",
       "      <th>review_total_positive_word_counts</th>\n",
       "      <th>total_number_of_reviews_reviewer_has_given</th>\n",
       "      <th>reviewer_score</th>\n",
       "      <th>tags</th>\n",
       "      <th>days_since_review</th>\n",
       "      <th>lat</th>\n",
       "      <th>lng</th>\n",
       "    </tr>\n",
       "  </thead>\n",
       "  <tbody>\n",
       "    <tr>\n",
       "      <th>0</th>\n",
       "      <td>Stratton Street Mayfair Westminster Borough Lo...</td>\n",
       "      <td>581</td>\n",
       "      <td>2/19/2016</td>\n",
       "      <td>8.4</td>\n",
       "      <td>The May Fair Hotel</td>\n",
       "      <td>United Kingdom</td>\n",
       "      <td>Leaving</td>\n",
       "      <td>3</td>\n",
       "      <td>1994</td>\n",
       "      <td>Staff were amazing</td>\n",
       "      <td>4</td>\n",
       "      <td>7</td>\n",
       "      <td>10.0</td>\n",
       "      <td>[' Leisure trip ', ' Couple ', ' Studio Suite ...</td>\n",
       "      <td>531 day</td>\n",
       "      <td>51.507894</td>\n",
       "      <td>-0.143671</td>\n",
       "    </tr>\n",
       "    <tr>\n",
       "      <th>1</th>\n",
       "      <td>130 134 Southampton Row Camden London WC1B 5AF...</td>\n",
       "      <td>299</td>\n",
       "      <td>1/12/2017</td>\n",
       "      <td>8.3</td>\n",
       "      <td>Mercure London Bloomsbury Hotel</td>\n",
       "      <td>United Kingdom</td>\n",
       "      <td>poor breakfast</td>\n",
       "      <td>3</td>\n",
       "      <td>1361</td>\n",
       "      <td>location</td>\n",
       "      <td>2</td>\n",
       "      <td>14</td>\n",
       "      <td>6.3</td>\n",
       "      <td>[' Business trip ', ' Couple ', ' Standard Dou...</td>\n",
       "      <td>203 day</td>\n",
       "      <td>51.521009</td>\n",
       "      <td>-0.123097</td>\n",
       "    </tr>\n",
       "    <tr>\n",
       "      <th>2</th>\n",
       "      <td>151 bis Rue de Rennes 6th arr 75006 Paris France</td>\n",
       "      <td>32</td>\n",
       "      <td>10/18/2016</td>\n",
       "      <td>8.9</td>\n",
       "      <td>Legend Saint Germain by Elegancia</td>\n",
       "      <td>China</td>\n",
       "      <td>No kettle in room</td>\n",
       "      <td>6</td>\n",
       "      <td>406</td>\n",
       "      <td>No Positive</td>\n",
       "      <td>0</td>\n",
       "      <td>14</td>\n",
       "      <td>7.5</td>\n",
       "      <td>[' Leisure trip ', ' Solo traveler ', ' Modern...</td>\n",
       "      <td>289 day</td>\n",
       "      <td>48.845377</td>\n",
       "      <td>2.325643</td>\n",
       "    </tr>\n",
       "    <tr>\n",
       "      <th>3</th>\n",
       "      <td>216 Avenue Jean Jaures 19th arr 75019 Paris Fr...</td>\n",
       "      <td>34</td>\n",
       "      <td>9/22/2015</td>\n",
       "      <td>7.5</td>\n",
       "      <td>Mercure Paris 19 Philharmonie La Villette</td>\n",
       "      <td>United Kingdom</td>\n",
       "      <td>No Negative</td>\n",
       "      <td>0</td>\n",
       "      <td>607</td>\n",
       "      <td>Friendly staff quiet comfortable room spotles...</td>\n",
       "      <td>11</td>\n",
       "      <td>8</td>\n",
       "      <td>10.0</td>\n",
       "      <td>[' Leisure trip ', ' Solo traveler ', ' Standa...</td>\n",
       "      <td>681 day</td>\n",
       "      <td>48.888697</td>\n",
       "      <td>2.394540</td>\n",
       "    </tr>\n",
       "    <tr>\n",
       "      <th>4</th>\n",
       "      <td>Molenwerf 1 1014 AG Amsterdam Netherlands</td>\n",
       "      <td>914</td>\n",
       "      <td>3/5/2016</td>\n",
       "      <td>8.5</td>\n",
       "      <td>Golden Tulip Amsterdam West</td>\n",
       "      <td>Poland</td>\n",
       "      <td>Torn sheets</td>\n",
       "      <td>4</td>\n",
       "      <td>7586</td>\n",
       "      <td>The staff was very friendly and helpful Break...</td>\n",
       "      <td>20</td>\n",
       "      <td>10</td>\n",
       "      <td>9.6</td>\n",
       "      <td>[' Business trip ', ' Couple ', ' Standard Dou...</td>\n",
       "      <td>516 day</td>\n",
       "      <td>52.385601</td>\n",
       "      <td>4.847060</td>\n",
       "    </tr>\n",
       "  </tbody>\n",
       "</table>\n",
       "</div>"
      ],
      "text/plain": [
       "                                       hotel_address  \\\n",
       "0  Stratton Street Mayfair Westminster Borough Lo...   \n",
       "1  130 134 Southampton Row Camden London WC1B 5AF...   \n",
       "2   151 bis Rue de Rennes 6th arr 75006 Paris France   \n",
       "3  216 Avenue Jean Jaures 19th arr 75019 Paris Fr...   \n",
       "4          Molenwerf 1 1014 AG Amsterdam Netherlands   \n",
       "\n",
       "   additional_number_of_scoring review_date  average_score  \\\n",
       "0                           581   2/19/2016            8.4   \n",
       "1                           299   1/12/2017            8.3   \n",
       "2                            32  10/18/2016            8.9   \n",
       "3                            34   9/22/2015            7.5   \n",
       "4                           914    3/5/2016            8.5   \n",
       "\n",
       "                                  hotel_name reviewer_nationality  \\\n",
       "0                         The May Fair Hotel      United Kingdom    \n",
       "1            Mercure London Bloomsbury Hotel      United Kingdom    \n",
       "2          Legend Saint Germain by Elegancia               China    \n",
       "3  Mercure Paris 19 Philharmonie La Villette      United Kingdom    \n",
       "4                Golden Tulip Amsterdam West              Poland    \n",
       "\n",
       "       negative_review  review_total_negative_word_counts  \\\n",
       "0             Leaving                                   3   \n",
       "1       poor breakfast                                  3   \n",
       "2   No kettle in room                                   6   \n",
       "3          No Negative                                  0   \n",
       "4         Torn sheets                                   4   \n",
       "\n",
       "   total_number_of_reviews                                    positive_review  \\\n",
       "0                     1994                                 Staff were amazing   \n",
       "1                     1361                                           location   \n",
       "2                      406                                        No Positive   \n",
       "3                      607   Friendly staff quiet comfortable room spotles...   \n",
       "4                     7586   The staff was very friendly and helpful Break...   \n",
       "\n",
       "   review_total_positive_word_counts  \\\n",
       "0                                  4   \n",
       "1                                  2   \n",
       "2                                  0   \n",
       "3                                 11   \n",
       "4                                 20   \n",
       "\n",
       "   total_number_of_reviews_reviewer_has_given  reviewer_score  \\\n",
       "0                                           7            10.0   \n",
       "1                                          14             6.3   \n",
       "2                                          14             7.5   \n",
       "3                                           8            10.0   \n",
       "4                                          10             9.6   \n",
       "\n",
       "                                                tags days_since_review  \\\n",
       "0  [' Leisure trip ', ' Couple ', ' Studio Suite ...           531 day   \n",
       "1  [' Business trip ', ' Couple ', ' Standard Dou...           203 day   \n",
       "2  [' Leisure trip ', ' Solo traveler ', ' Modern...           289 day   \n",
       "3  [' Leisure trip ', ' Solo traveler ', ' Standa...           681 day   \n",
       "4  [' Business trip ', ' Couple ', ' Standard Dou...           516 day   \n",
       "\n",
       "         lat       lng  \n",
       "0  51.507894 -0.143671  \n",
       "1  51.521009 -0.123097  \n",
       "2  48.845377  2.325643  \n",
       "3  48.888697  2.394540  \n",
       "4  52.385601  4.847060  "
      ]
     },
     "execution_count": 2,
     "metadata": {},
     "output_type": "execute_result"
    }
   ],
   "source": [
    "hotels = pd.read_csv('hotels.csv')\n",
    "hotels.head()"
   ]
  },
  {
   "cell_type": "code",
   "execution_count": 3,
   "metadata": {},
   "outputs": [
    {
     "name": "stdout",
     "output_type": "stream",
     "text": [
      "<class 'pandas.core.frame.DataFrame'>\n",
      "RangeIndex: 386803 entries, 0 to 386802\n",
      "Data columns (total 17 columns):\n",
      " #   Column                                      Non-Null Count   Dtype  \n",
      "---  ------                                      --------------   -----  \n",
      " 0   hotel_address                               386803 non-null  object \n",
      " 1   additional_number_of_scoring                386803 non-null  int64  \n",
      " 2   review_date                                 386803 non-null  object \n",
      " 3   average_score                               386803 non-null  float64\n",
      " 4   hotel_name                                  386803 non-null  object \n",
      " 5   reviewer_nationality                        386803 non-null  object \n",
      " 6   negative_review                             386803 non-null  object \n",
      " 7   review_total_negative_word_counts           386803 non-null  int64  \n",
      " 8   total_number_of_reviews                     386803 non-null  int64  \n",
      " 9   positive_review                             386803 non-null  object \n",
      " 10  review_total_positive_word_counts           386803 non-null  int64  \n",
      " 11  total_number_of_reviews_reviewer_has_given  386803 non-null  int64  \n",
      " 12  reviewer_score                              386803 non-null  float64\n",
      " 13  tags                                        386803 non-null  object \n",
      " 14  days_since_review                           386803 non-null  object \n",
      " 15  lat                                         384355 non-null  float64\n",
      " 16  lng                                         384355 non-null  float64\n",
      "dtypes: float64(4), int64(5), object(8)\n",
      "memory usage: 50.2+ MB\n"
     ]
    }
   ],
   "source": [
    "hotels.info()"
   ]
  },
  {
   "cell_type": "markdown",
   "metadata": {},
   "source": [
    "Обучим модель на числовых данных, пустые значения заменим нулями"
   ]
  },
  {
   "cell_type": "code",
   "execution_count": 4,
   "metadata": {},
   "outputs": [],
   "source": [
    "hotels_num_name = hotels.select_dtypes(include=['object']).columns.tolist()\n",
    "hotels_num  = hotels.drop(columns = hotels_num_name)\n",
    "hotels_num = hotels_num.fillna(0)"
   ]
  },
  {
   "cell_type": "code",
   "execution_count": 5,
   "metadata": {},
   "outputs": [],
   "source": [
    "def model_RandomForest(df):\n",
    "    X = df.drop(['reviewer_score'], axis = 1)  \n",
    "    y = df['reviewer_score'] \n",
    "    X_train, X_test, y_train, y_test = train_test_split(X, y, test_size=0.25, random_state=42)\n",
    "    regr = RandomForestRegressor(n_estimators=100)  \n",
    "    regr.fit(X_train, y_train)  \n",
    "    y_pred = regr.predict(X_test)\n",
    "    print('MAPE:', metrics.mean_absolute_percentage_error(y_test, y_pred))"
   ]
  },
  {
   "cell_type": "code",
   "execution_count": 6,
   "metadata": {},
   "outputs": [
    {
     "name": "stdout",
     "output_type": "stream",
     "text": [
      "MAPE: 0.14133556484769333\n"
     ]
    }
   ],
   "source": [
    "model_RandomForest(hotels_num)"
   ]
  },
  {
   "cell_type": "markdown",
   "metadata": {},
   "source": [
    "Базовый MAPE 0,1413, попробуем обработать данные и улучшить результат"
   ]
  },
  {
   "cell_type": "markdown",
   "metadata": {},
   "source": [
    "### Нормализация\n",
    "Попробуем преобразовать признаки"
   ]
  },
  {
   "cell_type": "code",
   "execution_count": 7,
   "metadata": {},
   "outputs": [],
   "source": [
    "hotels_scaled = hotels_num.copy()"
   ]
  },
  {
   "cell_type": "code",
   "execution_count": 8,
   "metadata": {},
   "outputs": [
    {
     "name": "stdout",
     "output_type": "stream",
     "text": [
      "<class 'pandas.core.frame.DataFrame'>\n",
      "RangeIndex: 386803 entries, 0 to 386802\n",
      "Data columns (total 9 columns):\n",
      " #   Column                                      Non-Null Count   Dtype  \n",
      "---  ------                                      --------------   -----  \n",
      " 0   additional_number_of_scoring                386803 non-null  int64  \n",
      " 1   average_score                               386803 non-null  float64\n",
      " 2   review_total_negative_word_counts           386803 non-null  int64  \n",
      " 3   total_number_of_reviews                     386803 non-null  int64  \n",
      " 4   review_total_positive_word_counts           386803 non-null  int64  \n",
      " 5   total_number_of_reviews_reviewer_has_given  386803 non-null  int64  \n",
      " 6   reviewer_score                              386803 non-null  float64\n",
      " 7   lat                                         386803 non-null  float64\n",
      " 8   lng                                         386803 non-null  float64\n",
      "dtypes: float64(4), int64(5)\n",
      "memory usage: 26.6 MB\n"
     ]
    }
   ],
   "source": [
    "hotels_scaled.info()"
   ]
  },
  {
   "cell_type": "code",
   "execution_count": 9,
   "metadata": {},
   "outputs": [
    {
     "data": {
      "text/plain": [
       "<AxesSubplot:>"
      ]
     },
     "execution_count": 9,
     "metadata": {},
     "output_type": "execute_result"
    },
    {
     "data": {
      "image/png": "[encoded data removed]",
      "text/plain": [
       "<Figure size 640x480 with 2 Axes>"
      ]
     },
     "metadata": {},
     "output_type": "display_data"
    }
   ],
   "source": [
    "sns.heatmap(hotels_num.corr(), annot=True)"
   ]
  },
  {
   "cell_type": "code",
   "execution_count": 10,
   "metadata": {},
   "outputs": [],
   "source": [
    "col_names = list(hotels_scaled.columns)"
   ]
  },
  {
   "cell_type": "code",
   "execution_count": 11,
   "metadata": {},
   "outputs": [
    {
     "data": {
      "text/html": [
       "<div>\n",
       "<style scoped>\n",
       "    .dataframe tbody tr th:only-of-type {\n",
       "        vertical-align: middle;\n",
       "    }\n",
       "\n",
       "    .dataframe tbody tr th {\n",
       "        vertical-align: top;\n",
       "    }\n",
       "\n",
       "    .dataframe thead th {\n",
       "        text-align: right;\n",
       "    }\n",
       "</style>\n",
       "<table border=\"1\" class=\"dataframe\">\n",
       "  <thead>\n",
       "    <tr style=\"text-align: right;\">\n",
       "      <th></th>\n",
       "      <th>additional_number_of_scoring</th>\n",
       "      <th>average_score</th>\n",
       "      <th>review_total_negative_word_counts</th>\n",
       "      <th>total_number_of_reviews</th>\n",
       "      <th>review_total_positive_word_counts</th>\n",
       "      <th>total_number_of_reviews_reviewer_has_given</th>\n",
       "      <th>reviewer_score</th>\n",
       "      <th>lat</th>\n",
       "      <th>lng</th>\n",
       "    </tr>\n",
       "  </thead>\n",
       "  <tbody>\n",
       "    <tr>\n",
       "      <th>0</th>\n",
       "      <td>0.165422</td>\n",
       "      <td>0.005054</td>\n",
       "      <td>-0.523140</td>\n",
       "      <td>-0.323767</td>\n",
       "      <td>-0.634121</td>\n",
       "      <td>-0.016034</td>\n",
       "      <td>0.979833</td>\n",
       "      <td>0.454844</td>\n",
       "      <td>-0.645338</td>\n",
       "    </tr>\n",
       "    <tr>\n",
       "      <th>1</th>\n",
       "      <td>-0.398288</td>\n",
       "      <td>-0.177467</td>\n",
       "      <td>-0.523140</td>\n",
       "      <td>-0.597030</td>\n",
       "      <td>-0.726176</td>\n",
       "      <td>0.617197</td>\n",
       "      <td>-1.281659</td>\n",
       "      <td>0.457353</td>\n",
       "      <td>-0.640836</td>\n",
       "    </tr>\n",
       "    <tr>\n",
       "      <th>2</th>\n",
       "      <td>-0.932013</td>\n",
       "      <td>0.917663</td>\n",
       "      <td>-0.422141</td>\n",
       "      <td>-1.009298</td>\n",
       "      <td>-0.818231</td>\n",
       "      <td>0.617197</td>\n",
       "      <td>-0.548202</td>\n",
       "      <td>-0.054572</td>\n",
       "      <td>-0.105009</td>\n",
       "    </tr>\n",
       "    <tr>\n",
       "      <th>3</th>\n",
       "      <td>-0.928015</td>\n",
       "      <td>-1.637641</td>\n",
       "      <td>-0.624138</td>\n",
       "      <td>-0.922527</td>\n",
       "      <td>-0.311928</td>\n",
       "      <td>0.074427</td>\n",
       "      <td>0.979833</td>\n",
       "      <td>-0.046284</td>\n",
       "      <td>-0.089933</td>\n",
       "    </tr>\n",
       "    <tr>\n",
       "      <th>4</th>\n",
       "      <td>0.831079</td>\n",
       "      <td>0.187576</td>\n",
       "      <td>-0.489473</td>\n",
       "      <td>2.090267</td>\n",
       "      <td>0.102320</td>\n",
       "      <td>0.255351</td>\n",
       "      <td>0.735348</td>\n",
       "      <td>0.622775</td>\n",
       "      <td>0.446722</td>\n",
       "    </tr>\n",
       "    <tr>\n",
       "      <th>...</th>\n",
       "      <td>...</td>\n",
       "      <td>...</td>\n",
       "      <td>...</td>\n",
       "      <td>...</td>\n",
       "      <td>...</td>\n",
       "      <td>...</td>\n",
       "      <td>...</td>\n",
       "      <td>...</td>\n",
       "      <td>...</td>\n",
       "    </tr>\n",
       "    <tr>\n",
       "      <th>386798</th>\n",
       "      <td>-0.782091</td>\n",
       "      <td>1.100184</td>\n",
       "      <td>-0.624138</td>\n",
       "      <td>-0.918210</td>\n",
       "      <td>-0.357956</td>\n",
       "      <td>0.255351</td>\n",
       "      <td>0.246376</td>\n",
       "      <td>0.452191</td>\n",
       "      <td>-0.655706</td>\n",
       "    </tr>\n",
       "    <tr>\n",
       "      <th>386799</th>\n",
       "      <td>-0.452260</td>\n",
       "      <td>0.005054</td>\n",
       "      <td>-0.624138</td>\n",
       "      <td>0.207217</td>\n",
       "      <td>3.462332</td>\n",
       "      <td>-0.558804</td>\n",
       "      <td>0.490862</td>\n",
       "      <td>-0.179509</td>\n",
       "      <td>2.974591</td>\n",
       "    </tr>\n",
       "    <tr>\n",
       "      <th>386800</th>\n",
       "      <td>-0.082451</td>\n",
       "      <td>-2.915293</td>\n",
       "      <td>-0.220143</td>\n",
       "      <td>0.003025</td>\n",
       "      <td>-0.403983</td>\n",
       "      <td>1.250429</td>\n",
       "      <td>-0.059231</td>\n",
       "      <td>0.457312</td>\n",
       "      <td>-0.642584</td>\n",
       "    </tr>\n",
       "    <tr>\n",
       "      <th>386801</th>\n",
       "      <td>-0.266356</td>\n",
       "      <td>-0.542511</td>\n",
       "      <td>-0.624138</td>\n",
       "      <td>-0.508101</td>\n",
       "      <td>-0.542066</td>\n",
       "      <td>1.883661</td>\n",
       "      <td>0.490862</td>\n",
       "      <td>0.456227</td>\n",
       "      <td>-0.648926</td>\n",
       "    </tr>\n",
       "    <tr>\n",
       "      <th>386802</th>\n",
       "      <td>-0.552209</td>\n",
       "      <td>1.100184</td>\n",
       "      <td>0.049187</td>\n",
       "      <td>-0.662647</td>\n",
       "      <td>0.102320</td>\n",
       "      <td>-0.468343</td>\n",
       "      <td>0.246376</td>\n",
       "      <td>0.452015</td>\n",
       "      <td>-0.655522</td>\n",
       "    </tr>\n",
       "  </tbody>\n",
       "</table>\n",
       "<p>386803 rows × 9 columns</p>\n",
       "</div>"
      ],
      "text/plain": [
       "        additional_number_of_scoring  average_score  \\\n",
       "0                           0.165422       0.005054   \n",
       "1                          -0.398288      -0.177467   \n",
       "2                          -0.932013       0.917663   \n",
       "3                          -0.928015      -1.637641   \n",
       "4                           0.831079       0.187576   \n",
       "...                              ...            ...   \n",
       "386798                     -0.782091       1.100184   \n",
       "386799                     -0.452260       0.005054   \n",
       "386800                     -0.082451      -2.915293   \n",
       "386801                     -0.266356      -0.542511   \n",
       "386802                     -0.552209       1.100184   \n",
       "\n",
       "        review_total_negative_word_counts  total_number_of_reviews  \\\n",
       "0                               -0.523140                -0.323767   \n",
       "1                               -0.523140                -0.597030   \n",
       "2                               -0.422141                -1.009298   \n",
       "3                               -0.624138                -0.922527   \n",
       "4                               -0.489473                 2.090267   \n",
       "...                                   ...                      ...   \n",
       "386798                          -0.624138                -0.918210   \n",
       "386799                          -0.624138                 0.207217   \n",
       "386800                          -0.220143                 0.003025   \n",
       "386801                          -0.624138                -0.508101   \n",
       "386802                           0.049187                -0.662647   \n",
       "\n",
       "        review_total_positive_word_counts  \\\n",
       "0                               -0.634121   \n",
       "1                               -0.726176   \n",
       "2                               -0.818231   \n",
       "3                               -0.311928   \n",
       "4                                0.102320   \n",
       "...                                   ...   \n",
       "386798                          -0.357956   \n",
       "386799                           3.462332   \n",
       "386800                          -0.403983   \n",
       "386801                          -0.542066   \n",
       "386802                           0.102320   \n",
       "\n",
       "        total_number_of_reviews_reviewer_has_given  reviewer_score       lat  \\\n",
       "0                                        -0.016034        0.979833  0.454844   \n",
       "1                                         0.617197       -1.281659  0.457353   \n",
       "2                                         0.617197       -0.548202 -0.054572   \n",
       "3                                         0.074427        0.979833 -0.046284   \n",
       "4                                         0.255351        0.735348  0.622775   \n",
       "...                                            ...             ...       ...   \n",
       "386798                                    0.255351        0.246376  0.452191   \n",
       "386799                                   -0.558804        0.490862 -0.179509   \n",
       "386800                                    1.250429       -0.059231  0.457312   \n",
       "386801                                    1.883661        0.490862  0.456227   \n",
       "386802                                   -0.468343        0.246376  0.452015   \n",
       "\n",
       "             lng  \n",
       "0      -0.645338  \n",
       "1      -0.640836  \n",
       "2      -0.105009  \n",
       "3      -0.089933  \n",
       "4       0.446722  \n",
       "...          ...  \n",
       "386798 -0.655706  \n",
       "386799  2.974591  \n",
       "386800 -0.642584  \n",
       "386801 -0.648926  \n",
       "386802 -0.655522  \n",
       "\n",
       "[386803 rows x 9 columns]"
      ]
     },
     "execution_count": 11,
     "metadata": {},
     "output_type": "execute_result"
    }
   ],
   "source": [
    "scaler = StandardScaler()\n",
    " \n",
    "hotels_scaled = scaler.fit_transform(hotels_scaled.values)\n",
    "df = pd.DataFrame(hotels_scaled, columns=col_names)\n",
    "df "
   ]
  },
  {
   "cell_type": "code",
   "execution_count": 12,
   "metadata": {},
   "outputs": [
    {
     "name": "stdout",
     "output_type": "stream",
     "text": [
      "MAPE: 1.408354459189234\n"
     ]
    }
   ],
   "source": [
    "model_RandomForest(df)"
   ]
  },
  {
   "cell_type": "markdown",
   "metadata": {},
   "source": [
    "### Вывод\n",
    "Стандартизация ухудшила качество модели"
   ]
  },
  {
   "cell_type": "code",
   "execution_count": 13,
   "metadata": {},
   "outputs": [],
   "source": [
    "hotels_RBscaled = hotels_num.copy()"
   ]
  },
  {
   "cell_type": "code",
   "execution_count": 14,
   "metadata": {},
   "outputs": [
    {
     "data": {
      "text/html": [
       "<div>\n",
       "<style scoped>\n",
       "    .dataframe tbody tr th:only-of-type {\n",
       "        vertical-align: middle;\n",
       "    }\n",
       "\n",
       "    .dataframe tbody tr th {\n",
       "        vertical-align: top;\n",
       "    }\n",
       "\n",
       "    .dataframe thead th {\n",
       "        text-align: right;\n",
       "    }\n",
       "</style>\n",
       "<table border=\"1\" class=\"dataframe\">\n",
       "  <thead>\n",
       "    <tr style=\"text-align: right;\">\n",
       "      <th></th>\n",
       "      <th>additional_number_of_scoring</th>\n",
       "      <th>average_score</th>\n",
       "      <th>review_total_negative_word_counts</th>\n",
       "      <th>total_number_of_reviews</th>\n",
       "      <th>review_total_positive_word_counts</th>\n",
       "      <th>total_number_of_reviews_reviewer_has_given</th>\n",
       "      <th>reviewer_score</th>\n",
       "      <th>lat</th>\n",
       "      <th>lng</th>\n",
       "    </tr>\n",
       "  </thead>\n",
       "  <tbody>\n",
       "    <tr>\n",
       "      <th>0</th>\n",
       "      <td>0.165422</td>\n",
       "      <td>0.005054</td>\n",
       "      <td>-0.523140</td>\n",
       "      <td>-0.323767</td>\n",
       "      <td>-0.634121</td>\n",
       "      <td>-0.016034</td>\n",
       "      <td>0.979833</td>\n",
       "      <td>0.454844</td>\n",
       "      <td>-0.645338</td>\n",
       "    </tr>\n",
       "    <tr>\n",
       "      <th>1</th>\n",
       "      <td>-0.398288</td>\n",
       "      <td>-0.177467</td>\n",
       "      <td>-0.523140</td>\n",
       "      <td>-0.597030</td>\n",
       "      <td>-0.726176</td>\n",
       "      <td>0.617197</td>\n",
       "      <td>-1.281659</td>\n",
       "      <td>0.457353</td>\n",
       "      <td>-0.640836</td>\n",
       "    </tr>\n",
       "    <tr>\n",
       "      <th>2</th>\n",
       "      <td>-0.932013</td>\n",
       "      <td>0.917663</td>\n",
       "      <td>-0.422141</td>\n",
       "      <td>-1.009298</td>\n",
       "      <td>-0.818231</td>\n",
       "      <td>0.617197</td>\n",
       "      <td>-0.548202</td>\n",
       "      <td>-0.054572</td>\n",
       "      <td>-0.105009</td>\n",
       "    </tr>\n",
       "    <tr>\n",
       "      <th>3</th>\n",
       "      <td>-0.928015</td>\n",
       "      <td>-1.637641</td>\n",
       "      <td>-0.624138</td>\n",
       "      <td>-0.922527</td>\n",
       "      <td>-0.311928</td>\n",
       "      <td>0.074427</td>\n",
       "      <td>0.979833</td>\n",
       "      <td>-0.046284</td>\n",
       "      <td>-0.089933</td>\n",
       "    </tr>\n",
       "    <tr>\n",
       "      <th>4</th>\n",
       "      <td>0.831079</td>\n",
       "      <td>0.187576</td>\n",
       "      <td>-0.489473</td>\n",
       "      <td>2.090267</td>\n",
       "      <td>0.102320</td>\n",
       "      <td>0.255351</td>\n",
       "      <td>0.735348</td>\n",
       "      <td>0.622775</td>\n",
       "      <td>0.446722</td>\n",
       "    </tr>\n",
       "    <tr>\n",
       "      <th>...</th>\n",
       "      <td>...</td>\n",
       "      <td>...</td>\n",
       "      <td>...</td>\n",
       "      <td>...</td>\n",
       "      <td>...</td>\n",
       "      <td>...</td>\n",
       "      <td>...</td>\n",
       "      <td>...</td>\n",
       "      <td>...</td>\n",
       "    </tr>\n",
       "    <tr>\n",
       "      <th>386798</th>\n",
       "      <td>-0.782091</td>\n",
       "      <td>1.100184</td>\n",
       "      <td>-0.624138</td>\n",
       "      <td>-0.918210</td>\n",
       "      <td>-0.357956</td>\n",
       "      <td>0.255351</td>\n",
       "      <td>0.246376</td>\n",
       "      <td>0.452191</td>\n",
       "      <td>-0.655706</td>\n",
       "    </tr>\n",
       "    <tr>\n",
       "      <th>386799</th>\n",
       "      <td>-0.452260</td>\n",
       "      <td>0.005054</td>\n",
       "      <td>-0.624138</td>\n",
       "      <td>0.207217</td>\n",
       "      <td>3.462332</td>\n",
       "      <td>-0.558804</td>\n",
       "      <td>0.490862</td>\n",
       "      <td>-0.179509</td>\n",
       "      <td>2.974591</td>\n",
       "    </tr>\n",
       "    <tr>\n",
       "      <th>386800</th>\n",
       "      <td>-0.082451</td>\n",
       "      <td>-2.915293</td>\n",
       "      <td>-0.220143</td>\n",
       "      <td>0.003025</td>\n",
       "      <td>-0.403983</td>\n",
       "      <td>1.250429</td>\n",
       "      <td>-0.059231</td>\n",
       "      <td>0.457312</td>\n",
       "      <td>-0.642584</td>\n",
       "    </tr>\n",
       "    <tr>\n",
       "      <th>386801</th>\n",
       "      <td>-0.266356</td>\n",
       "      <td>-0.542511</td>\n",
       "      <td>-0.624138</td>\n",
       "      <td>-0.508101</td>\n",
       "      <td>-0.542066</td>\n",
       "      <td>1.883661</td>\n",
       "      <td>0.490862</td>\n",
       "      <td>0.456227</td>\n",
       "      <td>-0.648926</td>\n",
       "    </tr>\n",
       "    <tr>\n",
       "      <th>386802</th>\n",
       "      <td>-0.552209</td>\n",
       "      <td>1.100184</td>\n",
       "      <td>0.049187</td>\n",
       "      <td>-0.662647</td>\n",
       "      <td>0.102320</td>\n",
       "      <td>-0.468343</td>\n",
       "      <td>0.246376</td>\n",
       "      <td>0.452015</td>\n",
       "      <td>-0.655522</td>\n",
       "    </tr>\n",
       "  </tbody>\n",
       "</table>\n",
       "<p>386803 rows × 9 columns</p>\n",
       "</div>"
      ],
      "text/plain": [
       "        additional_number_of_scoring  average_score  \\\n",
       "0                           0.165422       0.005054   \n",
       "1                          -0.398288      -0.177467   \n",
       "2                          -0.932013       0.917663   \n",
       "3                          -0.928015      -1.637641   \n",
       "4                           0.831079       0.187576   \n",
       "...                              ...            ...   \n",
       "386798                     -0.782091       1.100184   \n",
       "386799                     -0.452260       0.005054   \n",
       "386800                     -0.082451      -2.915293   \n",
       "386801                     -0.266356      -0.542511   \n",
       "386802                     -0.552209       1.100184   \n",
       "\n",
       "        review_total_negative_word_counts  total_number_of_reviews  \\\n",
       "0                               -0.523140                -0.323767   \n",
       "1                               -0.523140                -0.597030   \n",
       "2                               -0.422141                -1.009298   \n",
       "3                               -0.624138                -0.922527   \n",
       "4                               -0.489473                 2.090267   \n",
       "...                                   ...                      ...   \n",
       "386798                          -0.624138                -0.918210   \n",
       "386799                          -0.624138                 0.207217   \n",
       "386800                          -0.220143                 0.003025   \n",
       "386801                          -0.624138                -0.508101   \n",
       "386802                           0.049187                -0.662647   \n",
       "\n",
       "        review_total_positive_word_counts  \\\n",
       "0                               -0.634121   \n",
       "1                               -0.726176   \n",
       "2                               -0.818231   \n",
       "3                               -0.311928   \n",
       "4                                0.102320   \n",
       "...                                   ...   \n",
       "386798                          -0.357956   \n",
       "386799                           3.462332   \n",
       "386800                          -0.403983   \n",
       "386801                          -0.542066   \n",
       "386802                           0.102320   \n",
       "\n",
       "        total_number_of_reviews_reviewer_has_given  reviewer_score       lat  \\\n",
       "0                                        -0.016034        0.979833  0.454844   \n",
       "1                                         0.617197       -1.281659  0.457353   \n",
       "2                                         0.617197       -0.548202 -0.054572   \n",
       "3                                         0.074427        0.979833 -0.046284   \n",
       "4                                         0.255351        0.735348  0.622775   \n",
       "...                                            ...             ...       ...   \n",
       "386798                                    0.255351        0.246376  0.452191   \n",
       "386799                                   -0.558804        0.490862 -0.179509   \n",
       "386800                                    1.250429       -0.059231  0.457312   \n",
       "386801                                    1.883661        0.490862  0.456227   \n",
       "386802                                   -0.468343        0.246376  0.452015   \n",
       "\n",
       "             lng  \n",
       "0      -0.645338  \n",
       "1      -0.640836  \n",
       "2      -0.105009  \n",
       "3      -0.089933  \n",
       "4       0.446722  \n",
       "...          ...  \n",
       "386798 -0.655706  \n",
       "386799  2.974591  \n",
       "386800 -0.642584  \n",
       "386801 -0.648926  \n",
       "386802 -0.655522  \n",
       "\n",
       "[386803 rows x 9 columns]"
      ]
     },
     "execution_count": 14,
     "metadata": {},
     "output_type": "execute_result"
    }
   ],
   "source": [
    "r_scaler = RobustScaler()\n",
    "hotels_RBscaled = scaler.fit_transform(hotels_RBscaled.values)\n",
    "hotels_RBscaled = pd.DataFrame(hotels_RBscaled, columns=col_names)"
   ]
  },
  {
   "cell_type": "code",
   "execution_count": 15,
   "metadata": {},
   "outputs": [
    {
     "name": "stdout",
     "output_type": "stream",
     "text": [
      "MAPE: 1.4088552599733073\n"
     ]
    }
   ],
   "source": [
    "model_RandomForest(hotels_RBscaled)"
   ]
  },
  {
   "cell_type": "markdown",
   "metadata": {},
   "source": [
    "### Вывод\n",
    "Нормализация ухудшила качество модели"
   ]
  },
  {
   "cell_type": "markdown",
   "metadata": {},
   "source": [
    "С помощью метода рекурсивного исключения признаков попробуем улучшить качество модели, за счет отбора самых выжных признаков"
   ]
  },
  {
   "cell_type": "code",
   "execution_count": 16,
   "metadata": {},
   "outputs": [],
   "source": [
    "from sklearn.feature_selection import RFE"
   ]
  },
  {
   "cell_type": "code",
   "execution_count": 17,
   "metadata": {},
   "outputs": [],
   "source": [
    "    X = hotels_num.drop(['reviewer_score'], axis = 1)  \n",
    "    y = hotels_num['reviewer_score'] \n",
    "    X_train, X_test, y_train, y_test = train_test_split(X, y, test_size=0.25, random_state=42)"
   ]
  },
  {
   "cell_type": "code",
   "execution_count": 18,
   "metadata": {},
   "outputs": [],
   "source": [
    "estimator = LinearRegression()\n",
    "selector = RFE(estimator, n_features_to_select=3, step=1)\n",
    "selector = selector.fit(X_train, y_train)\n",
    " \n",
    "RFE_list = selector.get_feature_names_out().tolist()\n",
    "RFE_list.append('reviewer_score')\n",
    "hotels_num_RFE = hotels_num[RFE_list]\n"
   ]
  },
  {
   "cell_type": "code",
   "execution_count": 19,
   "metadata": {},
   "outputs": [
    {
     "name": "stdout",
     "output_type": "stream",
     "text": [
      "MAPE: 0.14235890192302075\n"
     ]
    }
   ],
   "source": [
    "model_RandomForest(hotels_num_RFE)"
   ]
  },
  {
   "cell_type": "markdown",
   "metadata": {},
   "source": [
    "MAPE после отбора признаков ухудшился "
   ]
  },
  {
   "cell_type": "markdown",
   "metadata": {},
   "source": [
    "теперь с помощью метода SelectKBest попробуем улучшить качество модели"
   ]
  },
  {
   "cell_type": "code",
   "execution_count": 20,
   "metadata": {},
   "outputs": [],
   "source": [
    "from sklearn.feature_selection import SelectKBest, f_regression"
   ]
  },
  {
   "cell_type": "code",
   "execution_count": 21,
   "metadata": {},
   "outputs": [],
   "source": [
    "selector_KB = SelectKBest(f_regression, k=3)\n",
    "selector_KB.fit(X_train, y_train) \n",
    "\n",
    "SelectKBest_list = selector.get_feature_names_out().tolist()\n",
    "SelectKBest_list.append('reviewer_score')\n",
    "hotels_num_SelectKBest = hotels_num[SelectKBest_list]"
   ]
  },
  {
   "cell_type": "code",
   "execution_count": 22,
   "metadata": {},
   "outputs": [
    {
     "data": {
      "text/plain": [
       "['average_score',\n",
       " 'review_total_negative_word_counts',\n",
       " 'review_total_positive_word_counts',\n",
       " 'reviewer_score']"
      ]
     },
     "execution_count": 22,
     "metadata": {},
     "output_type": "execute_result"
    }
   ],
   "source": [
    "SelectKBest_list"
   ]
  },
  {
   "cell_type": "code",
   "execution_count": 23,
   "metadata": {},
   "outputs": [
    {
     "name": "stdout",
     "output_type": "stream",
     "text": [
      "MAPE: 0.1422976533218938\n"
     ]
    }
   ],
   "source": [
    "model_RandomForest(hotels_num_SelectKBest)"
   ]
  },
  {
   "cell_type": "markdown",
   "metadata": {},
   "source": [
    "### Вывод\n",
    "Применение методов отбора признаков на неподготовленных данных не показало улучшений качества модели."
   ]
  },
  {
   "cell_type": "markdown",
   "metadata": {},
   "source": [
    "Возможно, нужно улучшить заполнение пропусков, в поле hotel_address в конце указывается страна, попробуем заполнить пропуски средними данными по стране. "
   ]
  },
  {
   "cell_type": "code",
   "execution_count": 24,
   "metadata": {},
   "outputs": [],
   "source": [
    "hotels['country'] =  hotels['hotel_address'].apply(lambda x: x.split(' ')[-1])"
   ]
  },
  {
   "cell_type": "code",
   "execution_count": 25,
   "metadata": {},
   "outputs": [
    {
     "data": {
      "text/plain": [
       "<AxesSubplot:>"
      ]
     },
     "execution_count": 25,
     "metadata": {},
     "output_type": "execute_result"
    },
    {
     "data": {
      "image/png": "[encoded data removed]",
      "text/plain": [
       "<Figure size 640x480 with 1 Axes>"
      ]
     },
     "metadata": {},
     "output_type": "display_data"
    }
   ],
   "source": [
    "hotels['country'].hist()"
   ]
  },
  {
   "cell_type": "code",
   "execution_count": 26,
   "metadata": {},
   "outputs": [],
   "source": [
    "med_lat_hotels = hotels.copy()"
   ]
  },
  {
   "cell_type": "code",
   "execution_count": 27,
   "metadata": {},
   "outputs": [
    {
     "data": {
      "text/plain": [
       "country\n",
       "Austria        48.204465\n",
       "France         48.866856\n",
       "Italy          45.478736\n",
       "Kingdom        51.510844\n",
       "Netherlands    52.366373\n",
       "Spain          41.388024\n",
       "Name: lat, dtype: float64"
      ]
     },
     "execution_count": 27,
     "metadata": {},
     "output_type": "execute_result"
    }
   ],
   "source": [
    "lat_bins = med_lat_hotels.groupby(['country'])\n",
    "lat_bins.lat.median()"
   ]
  },
  {
   "cell_type": "code",
   "execution_count": 28,
   "metadata": {},
   "outputs": [],
   "source": [
    "med_lat_hotels.lat = lat_bins.lat.apply(lambda x: x.fillna(x.median()))\n",
    "med_lat_hotels.lng = lat_bins.lng.apply(lambda x: x.fillna(x.median()))"
   ]
  },
  {
   "cell_type": "code",
   "execution_count": 29,
   "metadata": {},
   "outputs": [
    {
     "name": "stdout",
     "output_type": "stream",
     "text": [
      "<class 'pandas.core.frame.DataFrame'>\n",
      "RangeIndex: 386803 entries, 0 to 386802\n",
      "Data columns (total 18 columns):\n",
      " #   Column                                      Non-Null Count   Dtype  \n",
      "---  ------                                      --------------   -----  \n",
      " 0   hotel_address                               386803 non-null  object \n",
      " 1   additional_number_of_scoring                386803 non-null  int64  \n",
      " 2   review_date                                 386803 non-null  object \n",
      " 3   average_score                               386803 non-null  float64\n",
      " 4   hotel_name                                  386803 non-null  object \n",
      " 5   reviewer_nationality                        386803 non-null  object \n",
      " 6   negative_review                             386803 non-null  object \n",
      " 7   review_total_negative_word_counts           386803 non-null  int64  \n",
      " 8   total_number_of_reviews                     386803 non-null  int64  \n",
      " 9   positive_review                             386803 non-null  object \n",
      " 10  review_total_positive_word_counts           386803 non-null  int64  \n",
      " 11  total_number_of_reviews_reviewer_has_given  386803 non-null  int64  \n",
      " 12  reviewer_score                              386803 non-null  float64\n",
      " 13  tags                                        386803 non-null  object \n",
      " 14  days_since_review                           386803 non-null  object \n",
      " 15  lat                                         386803 non-null  float64\n",
      " 16  lng                                         386803 non-null  float64\n",
      " 17  country                                     386803 non-null  object \n",
      "dtypes: float64(4), int64(5), object(9)\n",
      "memory usage: 53.1+ MB\n"
     ]
    }
   ],
   "source": [
    "med_lat_hotels.info()"
   ]
  },
  {
   "cell_type": "code",
   "execution_count": 30,
   "metadata": {},
   "outputs": [],
   "source": [
    "hotels_num_name_med = med_lat_hotels.select_dtypes(include=['object']).columns.tolist()\n",
    "med_lat_hotels_num  = med_lat_hotels.drop(columns = hotels_num_name_med)"
   ]
  },
  {
   "cell_type": "code",
   "execution_count": 31,
   "metadata": {},
   "outputs": [
    {
     "name": "stdout",
     "output_type": "stream",
     "text": [
      "MAPE: 0.141245515864328\n"
     ]
    }
   ],
   "source": [
    "model_RandomForest(med_lat_hotels_num)"
   ]
  },
  {
   "cell_type": "markdown",
   "metadata": {},
   "source": [
    "### Вывод\n",
    "Заполнение пустых координат средними по стране улучшил MAPE. "
   ]
  },
  {
   "cell_type": "markdown",
   "metadata": {},
   "source": [
    "Анализ столбца Tags показал, что можно получить следующую информацию:\n",
    "- есть ли питомцы\n",
    "- тип поездки\n",
    "- был ли сделан заказ с мобильного телефона\n",
    "- тип посетителя\n",
    "- тип комнаты\n",
    "- длительность пребывания "
   ]
  },
  {
   "cell_type": "code",
   "execution_count": 32,
   "metadata": {},
   "outputs": [],
   "source": [
    "tag_hotels = med_lat_hotels.copy()"
   ]
  },
  {
   "cell_type": "code",
   "execution_count": 33,
   "metadata": {},
   "outputs": [
    {
     "name": "stderr",
     "output_type": "stream",
     "text": [
      "C:\\Users\\GubskayaDV\\AppData\\Local\\Temp\\ipykernel_18824\\2492145875.py:1: FutureWarning: The default value of regex will change from True to False in a future version. In addition, single character regular expressions will *not* be treated as literal strings when regex=True.\n",
      "  tag_hotels['tags'] = tag_hotels['tags'].str.replace('[','')\n",
      "C:\\Users\\GubskayaDV\\AppData\\Local\\Temp\\ipykernel_18824\\2492145875.py:2: FutureWarning: The default value of regex will change from True to False in a future version. In addition, single character regular expressions will *not* be treated as literal strings when regex=True.\n",
      "  tag_hotels['tags'] = tag_hotels['tags'].str.replace(']','')\n"
     ]
    }
   ],
   "source": [
    "tag_hotels['tags'] = tag_hotels['tags'].str.replace('[','')\n",
    "tag_hotels['tags'] = tag_hotels['tags'].str.replace(']','')\n",
    "tag_hotels['tags'] = tag_hotels['tags'].str.replace(\" ' \", '')\n",
    "tag_hotels['tags'] = tag_hotels['tags'].str.replace(\" '\", '')\n",
    "tag_hotels['tags'] = tag_hotels['tags'].str.replace(\"' \", '')"
   ]
  },
  {
   "cell_type": "code",
   "execution_count": 34,
   "metadata": {},
   "outputs": [],
   "source": [
    "def trip_type(row):\n",
    "    if row['tags'].__contains__('Business'):\n",
    "        return 'Business'\n",
    "    if row['tags'].__contains__('Leisure'):\n",
    "        return 'Leisure'\n",
    "    else:\n",
    "        return 'Other'\n",
    "tag_hotels['Trip_type'] = tag_hotels.apply(trip_type, axis=1)"
   ]
  },
  {
   "cell_type": "code",
   "execution_count": 35,
   "metadata": {},
   "outputs": [],
   "source": [
    "tag_hotels['Has_pet'] = tag_hotels['tags'].apply(lambda x: 1 if x.__contains__('With a pet') else 0)\n",
    "tag_hotels['Mobile'] = tag_hotels['tags'].apply(lambda x: 1 if x.__contains__('Submitted from a mobile device') else 0)"
   ]
  },
  {
   "cell_type": "code",
   "execution_count": 36,
   "metadata": {},
   "outputs": [],
   "source": [
    "tag_hotels['tags'] = tag_hotels['tags'].str.replace(\"With a pet,\", '')\n",
    "tag_hotels['tags'] = tag_hotels['tags'].str.replace(\"Leisure trip,\", '')\n",
    "tag_hotels['tags'] = tag_hotels['tags'].str.replace(\"Business trip,\", '')\n",
    "tag_hotels['tags'] = tag_hotels['tags'].str.replace(\",Submitted from a mobile device\", '')"
   ]
  },
  {
   "cell_type": "code",
   "execution_count": 37,
   "metadata": {},
   "outputs": [],
   "source": [
    "tag_hotels[['Guest_type', 'Room_type', 'Duration']] = tag_hotels['tags'].str.split(',', expand=True)"
   ]
  },
  {
   "cell_type": "code",
   "execution_count": 38,
   "metadata": {},
   "outputs": [],
   "source": [
    "regex = '\\d+'\n",
    "tag_hotels['Duration'] = tag_hotels['Duration'].str.findall(regex).str.get(0)\n",
    "tag_hotels['Duration'] = pd.to_numeric(tag_hotels['Duration'])"
   ]
  },
  {
   "cell_type": "code",
   "execution_count": 39,
   "metadata": {},
   "outputs": [],
   "source": [
    "#Предположим, что оценки гостей комнат повышенной комфортности отличаются \n",
    "def room_vip(row):\n",
    "    if row['Room_type'] is None:\n",
    "        return 0\n",
    "    if row['Room_type'].__contains__('Deluxe'):\n",
    "        return 1\n",
    "    if row['Room_type'].__contains__('Executive'):\n",
    "        return 1\n",
    "    if row['Room_type'].__contains__('Luxury'):\n",
    "        return 1\n",
    "    if row['Room_type'].__contains__('Premium'):\n",
    "        return 1\n",
    "    else:\n",
    "        return 0\n",
    "\n",
    "tag_hotels['is_vip'] = tag_hotels.apply(room_vip, axis=1)"
   ]
  },
  {
   "cell_type": "code",
   "execution_count": 40,
   "metadata": {},
   "outputs": [],
   "source": [
    "tag_hotels = tag_hotels.drop(['tags'], axis = 1)"
   ]
  },
  {
   "cell_type": "code",
   "execution_count": 41,
   "metadata": {},
   "outputs": [],
   "source": [
    "from sklearn.preprocessing import OneHotEncoder"
   ]
  },
  {
   "cell_type": "code",
   "execution_count": 42,
   "metadata": {},
   "outputs": [
    {
     "name": "stdout",
     "output_type": "stream",
     "text": [
      "Число уникальных значений призкака Trip_type:  3\n",
      "Число уникальных значений призкака Has_pet:  2\n",
      "Число уникальных значений призкака Mobile:  2\n",
      "Число уникальных значений призкака Guest_type:  6\n",
      "Число уникальных значений призкака country:  6\n"
     ]
    }
   ],
   "source": [
    "columns_to_change = ['Trip_type', 'Has_pet', 'Mobile', 'Guest_type', 'country']\n",
    " \n",
    "for column in columns_to_change:\n",
    " print('Число уникальных значений призкака {}: '.format(column),  tag_hotels[column].nunique())"
   ]
  },
  {
   "cell_type": "code",
   "execution_count": 43,
   "metadata": {},
   "outputs": [
    {
     "name": "stdout",
     "output_type": "stream",
     "text": [
      "['Trip_type_Business' 'Trip_type_Leisure' 'Trip_type_Other' 'Has_pet_0'\n",
      " 'Has_pet_1' 'Mobile_0' 'Mobile_1' 'Guest_type_Couple'\n",
      " 'Guest_type_Family with older children'\n",
      " 'Guest_type_Family with young children' 'Guest_type_Group'\n",
      " 'Guest_type_Solo traveler' 'Guest_type_Travelers with friends'\n",
      " 'country_Austria' 'country_France' 'country_Italy' 'country_Kingdom'\n",
      " 'country_Netherlands' 'country_Spain']\n"
     ]
    }
   ],
   "source": [
    "one_hot_encoder = OneHotEncoder()\n",
    "# 'учим' и сразу применяем преобразование к выборке, результат переводим в массив\n",
    "hotels_onehot = one_hot_encoder.fit_transform(tag_hotels[columns_to_change]).toarray() \n",
    "# запишем полученные названия новых колонок в отдельную переменную\n",
    "column_names = one_hot_encoder.get_feature_names_out(columns_to_change)\n",
    "print(column_names)"
   ]
  },
  {
   "cell_type": "code",
   "execution_count": 44,
   "metadata": {},
   "outputs": [],
   "source": [
    "hotels_onehot = pd.DataFrame(hotels_onehot, index=tag_hotels.index, columns=column_names)"
   ]
  },
  {
   "cell_type": "code",
   "execution_count": 45,
   "metadata": {},
   "outputs": [],
   "source": [
    "hotels_new = pd.concat([tag_hotels, hotels_onehot], axis=1)"
   ]
  },
  {
   "cell_type": "code",
   "execution_count": 46,
   "metadata": {},
   "outputs": [],
   "source": [
    "hotels_new = hotels_new.drop(columns=columns_to_change)"
   ]
  },
  {
   "cell_type": "code",
   "execution_count": 47,
   "metadata": {},
   "outputs": [],
   "source": [
    "hotels_num_name_new = tag_hotels.select_dtypes(include=['object']).columns.tolist()\n",
    "hotels_num_new  = tag_hotels.drop(columns = hotels_num_name_new)\n",
    "hotels_num_new = hotels_num_new.fillna(0)"
   ]
  },
  {
   "cell_type": "code",
   "execution_count": 48,
   "metadata": {},
   "outputs": [
    {
     "name": "stdout",
     "output_type": "stream",
     "text": [
      "MAPE: 0.13928405887312134\n"
     ]
    }
   ],
   "source": [
    "model_RandomForest(hotels_num_new)"
   ]
  },
  {
   "cell_type": "markdown",
   "metadata": {},
   "source": [
    "### Вывод \n",
    "Добавление признаков из tag положительно отразилось на модели, оставляем ее и пробуем дальнейшее улучшение"
   ]
  },
  {
   "cell_type": "markdown",
   "metadata": {},
   "source": [
    "Добавим признак количества дней после ревью"
   ]
  },
  {
   "cell_type": "code",
   "execution_count": 49,
   "metadata": {},
   "outputs": [
    {
     "name": "stdout",
     "output_type": "stream",
     "text": [
      "<class 'pandas.core.frame.DataFrame'>\n",
      "RangeIndex: 386803 entries, 0 to 386802\n",
      "Data columns (total 38 columns):\n",
      " #   Column                                      Non-Null Count   Dtype  \n",
      "---  ------                                      --------------   -----  \n",
      " 0   hotel_address                               386803 non-null  object \n",
      " 1   additional_number_of_scoring                386803 non-null  int64  \n",
      " 2   review_date                                 386803 non-null  object \n",
      " 3   average_score                               386803 non-null  float64\n",
      " 4   hotel_name                                  386803 non-null  object \n",
      " 5   reviewer_nationality                        386803 non-null  object \n",
      " 6   negative_review                             386803 non-null  object \n",
      " 7   review_total_negative_word_counts           386803 non-null  int64  \n",
      " 8   total_number_of_reviews                     386803 non-null  int64  \n",
      " 9   positive_review                             386803 non-null  object \n",
      " 10  review_total_positive_word_counts           386803 non-null  int64  \n",
      " 11  total_number_of_reviews_reviewer_has_given  386803 non-null  int64  \n",
      " 12  reviewer_score                              386803 non-null  float64\n",
      " 13  days_since_review                           386803 non-null  int64  \n",
      " 14  lat                                         386803 non-null  float64\n",
      " 15  lng                                         386803 non-null  float64\n",
      " 16  Room_type                                   386657 non-null  object \n",
      " 17  Duration                                    386657 non-null  float64\n",
      " 18  is_vip                                      386803 non-null  int64  \n",
      " 19  Trip_type_Business                          386803 non-null  float64\n",
      " 20  Trip_type_Leisure                           386803 non-null  float64\n",
      " 21  Trip_type_Other                             386803 non-null  float64\n",
      " 22  Has_pet_0                                   386803 non-null  float64\n",
      " 23  Has_pet_1                                   386803 non-null  float64\n",
      " 24  Mobile_0                                    386803 non-null  float64\n",
      " 25  Mobile_1                                    386803 non-null  float64\n",
      " 26  Guest_type_Couple                           386803 non-null  float64\n",
      " 27  Guest_type_Family with older children       386803 non-null  float64\n",
      " 28  Guest_type_Family with young children       386803 non-null  float64\n",
      " 29  Guest_type_Group                            386803 non-null  float64\n",
      " 30  Guest_type_Solo traveler                    386803 non-null  float64\n",
      " 31  Guest_type_Travelers with friends           386803 non-null  float64\n",
      " 32  country_Austria                             386803 non-null  float64\n",
      " 33  country_France                              386803 non-null  float64\n",
      " 34  country_Italy                               386803 non-null  float64\n",
      " 35  country_Kingdom                             386803 non-null  float64\n",
      " 36  country_Netherlands                         386803 non-null  float64\n",
      " 37  country_Spain                               386803 non-null  float64\n",
      "dtypes: float64(24), int64(7), object(7)\n",
      "memory usage: 112.1+ MB\n"
     ]
    }
   ],
   "source": [
    "regex = '\\d+'\n",
    "hotels_new['days_since_review'] = hotels_new['days_since_review'].str.findall(regex).str.get(0)\n",
    "hotels_new['days_since_review'] = hotels_new['days_since_review'].apply(pd.to_numeric)\n",
    "hotels_new.info()"
   ]
  },
  {
   "cell_type": "code",
   "execution_count": 50,
   "metadata": {},
   "outputs": [
    {
     "data": {
      "text/plain": [
       "0         531\n",
       "1         203\n",
       "2         289\n",
       "3         681\n",
       "4         516\n",
       "         ... \n",
       "386798    106\n",
       "386799    171\n",
       "386800    543\n",
       "386801     74\n",
       "386802    363\n",
       "Name: days_since_review, Length: 386803, dtype: int64"
      ]
     },
     "execution_count": 50,
     "metadata": {},
     "output_type": "execute_result"
    }
   ],
   "source": [
    "hotels_new['days_since_review']"
   ]
  },
  {
   "cell_type": "markdown",
   "metadata": {},
   "source": [
    "Оценим не вошедшие столбцы"
   ]
  },
  {
   "cell_type": "code",
   "execution_count": 51,
   "metadata": {},
   "outputs": [
    {
     "name": "stdout",
     "output_type": "stream",
     "text": [
      "Число уникальных значений призкака hotel_address:  1493\n",
      "Число уникальных значений призкака review_date:  731\n",
      "Число уникальных значений призкака hotel_name:  1492\n",
      "Число уникальных значений призкака reviewer_nationality:  225\n",
      "Число уникальных значений призкака negative_review:  248828\n",
      "Число уникальных значений призкака positive_review:  311737\n",
      "Число уникальных значений призкака Room_type:  2328\n"
     ]
    }
   ],
   "source": [
    "col_obj_check = hotels_new.select_dtypes(include=['object']).columns.tolist()\n",
    " \n",
    "for column in col_obj_check:\n",
    " print('Число уникальных значений призкака {}: '.format(column),  hotels_new[column].nunique())"
   ]
  },
  {
   "cell_type": "markdown",
   "metadata": {},
   "source": [
    "Предполагаю, что дата может влиять на отзыв, разберем ее на составляющие"
   ]
  },
  {
   "cell_type": "code",
   "execution_count": 52,
   "metadata": {},
   "outputs": [],
   "source": [
    "hotels_new['review_date'] = pd.to_datetime(hotels_new['review_date'])\n",
    "hotels_new['Year'] = hotels_new['review_date'].dt.year\n",
    "hotels_new['Month'] = hotels_new['review_date'].dt.month\n",
    "hotels_new['Day_of_week'] = hotels_new['review_date'].dt.weekday\n",
    "hotels_new.drop(['review_date'],axis = 1, inplace=True)"
   ]
  },
  {
   "cell_type": "markdown",
   "metadata": {},
   "source": [
    "Национальность тоже важный признак, добавим его в модель"
   ]
  },
  {
   "cell_type": "code",
   "execution_count": 53,
   "metadata": {},
   "outputs": [],
   "source": [
    "columns_to_change = ['reviewer_nationality']"
   ]
  },
  {
   "cell_type": "code",
   "execution_count": 54,
   "metadata": {},
   "outputs": [
    {
     "name": "stdout",
     "output_type": "stream",
     "text": [
      "['reviewer_nationality_ ' 'reviewer_nationality_ Abkhazia Georgia '\n",
      " 'reviewer_nationality_ Afghanistan ' 'reviewer_nationality_ Albania '\n",
      " 'reviewer_nationality_ Algeria ' 'reviewer_nationality_ American Samoa '\n",
      " 'reviewer_nationality_ Andorra ' 'reviewer_nationality_ Angola '\n",
      " 'reviewer_nationality_ Anguilla ' 'reviewer_nationality_ Antarctica '\n",
      " 'reviewer_nationality_ Antigua Barbuda '\n",
      " 'reviewer_nationality_ Argentina ' 'reviewer_nationality_ Armenia '\n",
      " 'reviewer_nationality_ Aruba ' 'reviewer_nationality_ Australia '\n",
      " 'reviewer_nationality_ Austria ' 'reviewer_nationality_ Azerbaijan '\n",
      " 'reviewer_nationality_ Bahamas ' 'reviewer_nationality_ Bahrain '\n",
      " 'reviewer_nationality_ Bangladesh ' 'reviewer_nationality_ Barbados '\n",
      " 'reviewer_nationality_ Belarus ' 'reviewer_nationality_ Belgium '\n",
      " 'reviewer_nationality_ Belize ' 'reviewer_nationality_ Benin '\n",
      " 'reviewer_nationality_ Bermuda ' 'reviewer_nationality_ Bhutan '\n",
      " 'reviewer_nationality_ Bolivia '\n",
      " 'reviewer_nationality_ Bonaire St Eustatius and Saba '\n",
      " 'reviewer_nationality_ Bosnia and Herzegovina '\n",
      " 'reviewer_nationality_ Botswana ' 'reviewer_nationality_ Brazil '\n",
      " 'reviewer_nationality_ British Virgin Islands '\n",
      " 'reviewer_nationality_ Brunei ' 'reviewer_nationality_ Bulgaria '\n",
      " 'reviewer_nationality_ Burundi ' 'reviewer_nationality_ Cambodia '\n",
      " 'reviewer_nationality_ Cameroon ' 'reviewer_nationality_ Canada '\n",
      " 'reviewer_nationality_ Cayman Islands '\n",
      " 'reviewer_nationality_ Central Africa Republic '\n",
      " 'reviewer_nationality_ Chile ' 'reviewer_nationality_ China '\n",
      " 'reviewer_nationality_ Cocos K I ' 'reviewer_nationality_ Colombia '\n",
      " 'reviewer_nationality_ Comoros ' 'reviewer_nationality_ Congo '\n",
      " 'reviewer_nationality_ Cook Islands ' 'reviewer_nationality_ Costa Rica '\n",
      " 'reviewer_nationality_ Crimea ' 'reviewer_nationality_ Croatia '\n",
      " 'reviewer_nationality_ Cura ao ' 'reviewer_nationality_ Cyprus '\n",
      " 'reviewer_nationality_ Czech Republic '\n",
      " 'reviewer_nationality_ Democratic Republic of the Congo '\n",
      " 'reviewer_nationality_ Denmark ' 'reviewer_nationality_ Djibouti '\n",
      " 'reviewer_nationality_ Dominica '\n",
      " 'reviewer_nationality_ Dominican Republic '\n",
      " 'reviewer_nationality_ East Timor ' 'reviewer_nationality_ Ecuador '\n",
      " 'reviewer_nationality_ Egypt ' 'reviewer_nationality_ El Salvador '\n",
      " 'reviewer_nationality_ Equatorial Guinea '\n",
      " 'reviewer_nationality_ Eritrea ' 'reviewer_nationality_ Estonia '\n",
      " 'reviewer_nationality_ Ethiopia '\n",
      " 'reviewer_nationality_ Falkland Islands Malvinas '\n",
      " 'reviewer_nationality_ Faroe Islands ' 'reviewer_nationality_ Fiji '\n",
      " 'reviewer_nationality_ Finland ' 'reviewer_nationality_ France '\n",
      " 'reviewer_nationality_ French Guiana '\n",
      " 'reviewer_nationality_ French Polynesia ' 'reviewer_nationality_ Gabon '\n",
      " 'reviewer_nationality_ Gambia ' 'reviewer_nationality_ Georgia '\n",
      " 'reviewer_nationality_ Germany ' 'reviewer_nationality_ Ghana '\n",
      " 'reviewer_nationality_ Gibraltar ' 'reviewer_nationality_ Greece '\n",
      " 'reviewer_nationality_ Grenada ' 'reviewer_nationality_ Guadeloupe '\n",
      " 'reviewer_nationality_ Guam ' 'reviewer_nationality_ Guatemala '\n",
      " 'reviewer_nationality_ Guernsey ' 'reviewer_nationality_ Guinea '\n",
      " 'reviewer_nationality_ Guyana ' 'reviewer_nationality_ Haiti '\n",
      " 'reviewer_nationality_ Honduras ' 'reviewer_nationality_ Hong Kong '\n",
      " 'reviewer_nationality_ Hungary ' 'reviewer_nationality_ Iceland '\n",
      " 'reviewer_nationality_ India ' 'reviewer_nationality_ Indonesia '\n",
      " 'reviewer_nationality_ Iran ' 'reviewer_nationality_ Iraq '\n",
      " 'reviewer_nationality_ Ireland ' 'reviewer_nationality_ Isle of Man '\n",
      " 'reviewer_nationality_ Israel ' 'reviewer_nationality_ Italy '\n",
      " 'reviewer_nationality_ Ivory Coast ' 'reviewer_nationality_ Jamaica '\n",
      " 'reviewer_nationality_ Japan ' 'reviewer_nationality_ Jersey '\n",
      " 'reviewer_nationality_ Jordan ' 'reviewer_nationality_ Kazakhstan '\n",
      " 'reviewer_nationality_ Kenya ' 'reviewer_nationality_ Kiribati '\n",
      " 'reviewer_nationality_ Kosovo ' 'reviewer_nationality_ Kuwait '\n",
      " 'reviewer_nationality_ Kyrgyzstan ' 'reviewer_nationality_ Laos '\n",
      " 'reviewer_nationality_ Latvia ' 'reviewer_nationality_ Lebanon '\n",
      " 'reviewer_nationality_ Lesotho ' 'reviewer_nationality_ Liberia '\n",
      " 'reviewer_nationality_ Libya ' 'reviewer_nationality_ Liechtenstein '\n",
      " 'reviewer_nationality_ Lithuania ' 'reviewer_nationality_ Luxembourg '\n",
      " 'reviewer_nationality_ Macau ' 'reviewer_nationality_ Macedonia '\n",
      " 'reviewer_nationality_ Madagascar ' 'reviewer_nationality_ Malawi '\n",
      " 'reviewer_nationality_ Malaysia ' 'reviewer_nationality_ Maldives '\n",
      " 'reviewer_nationality_ Mali ' 'reviewer_nationality_ Malta '\n",
      " 'reviewer_nationality_ Martinique ' 'reviewer_nationality_ Mauritania '\n",
      " 'reviewer_nationality_ Mauritius ' 'reviewer_nationality_ Mexico '\n",
      " 'reviewer_nationality_ Moldova ' 'reviewer_nationality_ Monaco '\n",
      " 'reviewer_nationality_ Mongolia ' 'reviewer_nationality_ Montenegro '\n",
      " 'reviewer_nationality_ Montserrat ' 'reviewer_nationality_ Morocco '\n",
      " 'reviewer_nationality_ Mozambique ' 'reviewer_nationality_ Myanmar '\n",
      " 'reviewer_nationality_ Namibia ' 'reviewer_nationality_ Nepal '\n",
      " 'reviewer_nationality_ Netherlands '\n",
      " 'reviewer_nationality_ New Caledonia '\n",
      " 'reviewer_nationality_ New Zealand ' 'reviewer_nationality_ Nicaragua '\n",
      " 'reviewer_nationality_ Niger ' 'reviewer_nationality_ Nigeria '\n",
      " 'reviewer_nationality_ Northern Mariana Islands '\n",
      " 'reviewer_nationality_ Norway ' 'reviewer_nationality_ Oman '\n",
      " 'reviewer_nationality_ Pakistan ' 'reviewer_nationality_ Palau '\n",
      " 'reviewer_nationality_ Palestinian Territory '\n",
      " 'reviewer_nationality_ Panama ' 'reviewer_nationality_ Papua New Guinea '\n",
      " 'reviewer_nationality_ Paraguay ' 'reviewer_nationality_ Peru '\n",
      " 'reviewer_nationality_ Philippines ' 'reviewer_nationality_ Poland '\n",
      " 'reviewer_nationality_ Portugal ' 'reviewer_nationality_ Puerto Rico '\n",
      " 'reviewer_nationality_ Qatar ' 'reviewer_nationality_ Reunion '\n",
      " 'reviewer_nationality_ Romania ' 'reviewer_nationality_ Russia '\n",
      " 'reviewer_nationality_ Rwanda ' 'reviewer_nationality_ Saint Barts '\n",
      " 'reviewer_nationality_ Saint Kitts and Nevis '\n",
      " 'reviewer_nationality_ Saint Lucia '\n",
      " 'reviewer_nationality_ Saint Martin '\n",
      " 'reviewer_nationality_ Saint Vincent Grenadines '\n",
      " 'reviewer_nationality_ Samoa ' 'reviewer_nationality_ San Marino '\n",
      " 'reviewer_nationality_ Saudi Arabia ' 'reviewer_nationality_ Senegal '\n",
      " 'reviewer_nationality_ Serbia ' 'reviewer_nationality_ Seychelles '\n",
      " 'reviewer_nationality_ Sierra Leone ' 'reviewer_nationality_ Singapore '\n",
      " 'reviewer_nationality_ Slovakia ' 'reviewer_nationality_ Slovenia '\n",
      " 'reviewer_nationality_ Somalia ' 'reviewer_nationality_ South Africa '\n",
      " 'reviewer_nationality_ South Korea ' 'reviewer_nationality_ South Sudan '\n",
      " 'reviewer_nationality_ Spain ' 'reviewer_nationality_ Sri Lanka '\n",
      " 'reviewer_nationality_ St Maarten '\n",
      " 'reviewer_nationality_ St Pierre and Miquelon '\n",
      " 'reviewer_nationality_ Sudan ' 'reviewer_nationality_ Suriname '\n",
      " 'reviewer_nationality_ Svalbard Jan Mayen '\n",
      " 'reviewer_nationality_ Swaziland ' 'reviewer_nationality_ Sweden '\n",
      " 'reviewer_nationality_ Switzerland ' 'reviewer_nationality_ Syria '\n",
      " 'reviewer_nationality_ Taiwan ' 'reviewer_nationality_ Tajikistan '\n",
      " 'reviewer_nationality_ Tanzania ' 'reviewer_nationality_ Thailand '\n",
      " 'reviewer_nationality_ Togo '\n",
      " 'reviewer_nationality_ Trinidad and Tobago '\n",
      " 'reviewer_nationality_ Tunisia ' 'reviewer_nationality_ Turkey '\n",
      " 'reviewer_nationality_ Turkmenistan '\n",
      " 'reviewer_nationality_ Turks Caicos Islands '\n",
      " 'reviewer_nationality_ Tuvalu '\n",
      " 'reviewer_nationality_ U S Virgin Islands '\n",
      " 'reviewer_nationality_ Uganda ' 'reviewer_nationality_ Ukraine '\n",
      " 'reviewer_nationality_ United Arab Emirates '\n",
      " 'reviewer_nationality_ United Kingdom '\n",
      " 'reviewer_nationality_ United States Minor Outlying Islands '\n",
      " 'reviewer_nationality_ United States of America '\n",
      " 'reviewer_nationality_ Uruguay ' 'reviewer_nationality_ Uzbekistan '\n",
      " 'reviewer_nationality_ Vanuatu ' 'reviewer_nationality_ Venezuela '\n",
      " 'reviewer_nationality_ Vietnam '\n",
      " 'reviewer_nationality_ Wallis and Futuna ' 'reviewer_nationality_ Yemen '\n",
      " 'reviewer_nationality_ Zambia ' 'reviewer_nationality_ Zimbabwe ']\n"
     ]
    }
   ],
   "source": [
    "one_hot_encoder = OneHotEncoder()\n",
    "# 'учим' и сразу применяем преобразование к выборке, результат переводим в массив\n",
    "hotels_onehot = one_hot_encoder.fit_transform(hotels_new[columns_to_change]).toarray() \n",
    "# запишем полученные названия новых колонок в отдельную переменную\n",
    "column_names = one_hot_encoder.get_feature_names_out(columns_to_change)\n",
    "print(column_names)"
   ]
  },
  {
   "cell_type": "code",
   "execution_count": 55,
   "metadata": {},
   "outputs": [],
   "source": [
    "hotels_onehot = pd.DataFrame(hotels_onehot, index=hotels_new.index, columns=column_names)"
   ]
  },
  {
   "cell_type": "code",
   "execution_count": 56,
   "metadata": {},
   "outputs": [],
   "source": [
    "hotels_new = pd.concat([hotels_new, hotels_onehot], axis=1)"
   ]
  },
  {
   "cell_type": "code",
   "execution_count": 57,
   "metadata": {},
   "outputs": [],
   "source": [
    "hotels_new = hotels_new.drop(columns=columns_to_change)"
   ]
  },
  {
   "cell_type": "code",
   "execution_count": 58,
   "metadata": {},
   "outputs": [
    {
     "name": "stdout",
     "output_type": "stream",
     "text": [
      "<class 'pandas.core.frame.DataFrame'>\n",
      "RangeIndex: 386803 entries, 0 to 386802\n",
      "Columns: 259 entries, additional_number_of_scoring to reviewer_nationality_ Zimbabwe \n",
      "dtypes: float64(249), int64(10)\n",
      "memory usage: 764.3 MB\n"
     ]
    }
   ],
   "source": [
    "col_to_del = ['hotel_address', 'hotel_name', 'negative_review', 'positive_review', 'Room_type']\n",
    "hotels_new = hotels_new.drop(columns=col_to_del)\n",
    "hotels_new.info()\n"
   ]
  },
  {
   "cell_type": "code",
   "execution_count": 59,
   "metadata": {},
   "outputs": [],
   "source": [
    "hotels_new = hotels_new.fillna(0)"
   ]
  },
  {
   "cell_type": "code",
   "execution_count": 60,
   "metadata": {},
   "outputs": [
    {
     "name": "stdout",
     "output_type": "stream",
     "text": [
      "MAPE: 0.13513972408671085\n"
     ]
    }
   ],
   "source": [
    "model_RandomForest(hotels_new)"
   ]
  },
  {
   "cell_type": "markdown",
   "metadata": {},
   "source": [
    "### Выводы\n",
    "МАЕР улучшился с 0,1413 до 0,1351"
   ]
  }
 ],
 "metadata": {
  "kernelspec": {
   "display_name": "Python 3 (ipykernel)",
   "language": "python",
   "name": "python3"
  },
  "language_info": {
   "codemirror_mode": {
    "name": "ipython",
    "version": 3
   },
   "file_extension": ".py",
   "mimetype": "text/x-python",
   "name": "python",
   "nbconvert_exporter": "python",
   "pygments_lexer": "ipython3",
   "version": "3.9.13"
  }
 },
 "nbformat": 4,
 "nbformat_minor": 2
}
